{
 "cells": [
  {
   "cell_type": "code",
   "execution_count": 5,
   "id": "3bca068f-c962-4034-aa20-c997b24f475b",
   "metadata": {},
   "outputs": [],
   "source": [
    "class test : \n",
    "    \n",
    "# this is the consturstr of the class \n",
    "    def __init__(self , a, b ):\n",
    "        self.a = a \n",
    "        self.b = b"
   ]
  },
  {
   "cell_type": "code",
   "execution_count": 6,
   "id": "68b38a39-e5f5-44de-8403-6fe8d4577470",
   "metadata": {},
   "outputs": [],
   "source": [
    "t = test(23,34)"
   ]
  },
  {
   "cell_type": "code",
   "execution_count": 7,
   "id": "643bd816-8357-43b0-9c87-9a5c7e9556b5",
   "metadata": {},
   "outputs": [],
   "source": [
    "t.a = 2345345"
   ]
  },
  {
   "cell_type": "code",
   "execution_count": 8,
   "id": "7fbcb179-6533-4dbb-9834-7e138b323624",
   "metadata": {},
   "outputs": [
    {
     "data": {
      "text/plain": [
       "2345345"
      ]
     },
     "execution_count": 8,
     "metadata": {},
     "output_type": "execute_result"
    }
   ],
   "source": [
    "t.a"
   ]
  },
  {
   "cell_type": "code",
   "execution_count": 9,
   "id": "53379855-b48d-4c7c-9673-d490dd779205",
   "metadata": {},
   "outputs": [],
   "source": [
    "class car :\n",
    "    def __init__(self , year , make , model, speed ) : \n",
    "    #    making the data member as the private  \n",
    "        self.__year = year \n",
    "        self.__make = make\n",
    "        self.__model = model\n",
    "        self.__speed = 0\n",
    "        \n",
    "    def set_speed(self,speed) : \n",
    "        self.__speed = 0 if speed < 0 else speed\n",
    "        \n",
    "    def get_speed(self)  : \n",
    "        return self.__speed"
   ]
  },
  {
   "cell_type": "code",
   "execution_count": 10,
   "id": "be75eff7-659f-4e32-9513-86971fac409d",
   "metadata": {},
   "outputs": [],
   "source": [
    "c = car(2021 , \"toyata\" , \"innova\" , 12)"
   ]
  },
  {
   "cell_type": "code",
   "execution_count": 11,
   "id": "7af43f63-b40d-42c0-aeee-ce63f6c5ff0b",
   "metadata": {},
   "outputs": [
    {
     "data": {
      "text/plain": [
       "2021"
      ]
     },
     "execution_count": 11,
     "metadata": {},
     "output_type": "execute_result"
    }
   ],
   "source": [
    "# accessing the pravite data members of the class \n",
    "c._car__year"
   ]
  },
  {
   "cell_type": "code",
   "execution_count": 12,
   "id": "23c532a9-177b-49e1-beab-8517cf30e93b",
   "metadata": {},
   "outputs": [],
   "source": [
    "c.set_speed(-3245)"
   ]
  },
  {
   "cell_type": "code",
   "execution_count": 28,
   "id": "9be5dbc9-e042-41c3-82d5-a4cd78fc4c57",
   "metadata": {},
   "outputs": [
    {
     "data": {
      "text/plain": [
       "234"
      ]
     },
     "execution_count": 28,
     "metadata": {},
     "output_type": "execute_result"
    }
   ],
   "source": [
    "c.get_speed()"
   ]
  },
  {
   "cell_type": "code",
   "execution_count": 14,
   "id": "05fa69e0-c2f5-401e-9d31-779de8c3cc67",
   "metadata": {},
   "outputs": [],
   "source": [
    "c.set_speed(234)"
   ]
  },
  {
   "cell_type": "code",
   "execution_count": 15,
   "id": "9280c23c-fefa-4913-9573-41bf21ed3bfd",
   "metadata": {},
   "outputs": [
    {
     "data": {
      "text/plain": [
       "234"
      ]
     },
     "execution_count": 15,
     "metadata": {},
     "output_type": "execute_result"
    }
   ],
   "source": [
    "c.get_speed()"
   ]
  },
  {
   "cell_type": "code",
   "execution_count": 16,
   "id": "ffca1efa-a700-4c9f-aed7-c27ebe1a16e3",
   "metadata": {},
   "outputs": [],
   "source": [
    "class bank_account : \n",
    "    def __init__(self , balance) : \n",
    "        self.__balanace = balance \n",
    "        \n",
    "    def deposit(self , amount) : \n",
    "        self.__balanace = self.__balanace + amount\n",
    "        \n",
    "    def withdaw(self ,amount) : \n",
    "        if self.__balanace >= amount :\n",
    "            self.__balanace = self.__balanace - amount\n",
    "            return True\n",
    "        else : \n",
    "            return False\n",
    "    \n",
    "    def get_banalnce(self):\n",
    "        return self.__balanace\n",
    "                  "
   ]
  },
  {
   "cell_type": "code",
   "execution_count": 17,
   "id": "59a4a4b6-610a-414a-8aa4-dcc3c5b43145",
   "metadata": {},
   "outputs": [],
   "source": [
    "sudh = bank_account(1000)"
   ]
  },
  {
   "cell_type": "code",
   "execution_count": 18,
   "id": "1c1c86fe-1f4d-41e7-961c-078effe21152",
   "metadata": {},
   "outputs": [
    {
     "data": {
      "text/plain": [
       "1000"
      ]
     },
     "execution_count": 18,
     "metadata": {},
     "output_type": "execute_result"
    }
   ],
   "source": [
    "sudh.get_banalnce()"
   ]
  },
  {
   "cell_type": "code",
   "execution_count": 19,
   "id": "5fc6f3e3-406a-452f-b42d-79c956ee1662",
   "metadata": {},
   "outputs": [],
   "source": [
    "sudh.deposit(5000)"
   ]
  },
  {
   "cell_type": "code",
   "execution_count": 20,
   "id": "09d4e0dd-b52f-4359-ace5-8da621beb1a4",
   "metadata": {},
   "outputs": [
    {
     "data": {
      "text/plain": [
       "6000"
      ]
     },
     "execution_count": 20,
     "metadata": {},
     "output_type": "execute_result"
    }
   ],
   "source": [
    "sudh.get_banalnce()"
   ]
  },
  {
   "cell_type": "code",
   "execution_count": 21,
   "id": "1d82bb14-275c-4098-9a3b-f253097b5277",
   "metadata": {},
   "outputs": [],
   "source": [
    "sudh.deposit(1000)"
   ]
  },
  {
   "cell_type": "code",
   "execution_count": 22,
   "id": "3f34a7a2-ce66-4afc-93cb-709809102caf",
   "metadata": {},
   "outputs": [
    {
     "data": {
      "text/plain": [
       "7000"
      ]
     },
     "execution_count": 22,
     "metadata": {},
     "output_type": "execute_result"
    }
   ],
   "source": [
    "sudh.get_banalnce()"
   ]
  },
  {
   "cell_type": "code",
   "execution_count": 23,
   "id": "f476edd3-0106-430e-88fb-fd8e3ebc2898",
   "metadata": {},
   "outputs": [
    {
     "data": {
      "text/plain": [
       "False"
      ]
     },
     "execution_count": 23,
     "metadata": {},
     "output_type": "execute_result"
    }
   ],
   "source": [
    "sudh.withdaw(9000)"
   ]
  },
  {
   "cell_type": "code",
   "execution_count": 24,
   "id": "b3c5b9a8-2156-4cd5-9d6a-bf7e4c7c1d5a",
   "metadata": {},
   "outputs": [
    {
     "data": {
      "text/plain": [
       "True"
      ]
     },
     "execution_count": 24,
     "metadata": {},
     "output_type": "execute_result"
    }
   ],
   "source": [
    "sudh.withdaw(2000)"
   ]
  },
  {
   "cell_type": "code",
   "execution_count": 25,
   "id": "aa871cd4-4c02-48dd-b1ef-a18195234eb9",
   "metadata": {},
   "outputs": [
    {
     "data": {
      "text/plain": [
       "5000"
      ]
     },
     "execution_count": 25,
     "metadata": {},
     "output_type": "execute_result"
    }
   ],
   "source": [
    "sudh.get_banalnce()"
   ]
  },
  {
   "cell_type": "code",
   "execution_count": 26,
   "id": "034c1723-b200-4b3b-afca-fd46606a70ba",
   "metadata": {},
   "outputs": [],
   "source": [
    "class student :\n",
    "    def __init__(self, name , roll ,marks ) :\n",
    "        self.__name = name \n",
    "        self.__marks= marks\n",
    "        self.roll = roll\n",
    "    def getmarks(self ):\n",
    "       return  self.__marks\n",
    "    def setmarks (self ,marks):\n",
    "        self.__marks = self.__marks + marks\n",
    "\n",
    "    def rmmarks (self ,marks):\n",
    "        self.__marks = self.__marks - marks\n",
    "\n",
    "    "
   ]
  },
  {
   "cell_type": "code",
   "execution_count": 32,
   "id": "5aa54ed2",
   "metadata": {},
   "outputs": [
    {
     "name": "stdout",
     "output_type": "stream",
     "text": [
      "100\n",
      "2100\n"
     ]
    },
    {
     "data": {
      "text/plain": [
       "2100"
      ]
     },
     "execution_count": 32,
     "metadata": {},
     "output_type": "execute_result"
    }
   ],
   "source": [
    "s1 = student(\"om\",11,100)\n",
    "print(s1.getmarks())\n",
    "s1.setmarks(2000)\n",
    "print(s1.getmarks())\n",
    "s1._student__marks"
   ]
  }
 ],
 "metadata": {
  "kernelspec": {
   "display_name": "Python 3 (ipykernel)",
   "language": "python",
   "name": "python3"
  },
  "language_info": {
   "codemirror_mode": {
    "name": "ipython",
    "version": 3
   },
   "file_extension": ".py",
   "mimetype": "text/x-python",
   "name": "python",
   "nbconvert_exporter": "python",
   "pygments_lexer": "ipython3",
   "version": "3.11.2"
  }
 },
 "nbformat": 4,
 "nbformat_minor": 5
}
