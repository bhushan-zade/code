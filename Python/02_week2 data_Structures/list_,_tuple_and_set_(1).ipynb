{
  "cells": [
    {
      "cell_type": "code",
      "execution_count": null,
      "id": "c7bbeb48-2684-44ff-a1d2-5b57584b08b7",
      "metadata": {
        "id": "c7bbeb48-2684-44ff-a1d2-5b57584b08b7"
      },
      "outputs": [],
      "source": [
        "l =[1,345,45,\"sudh\" ,True ,5+7j , 345.456] "
      ]
    },
    {
      "cell_type": "code",
      "execution_count": null,
      "id": "cbb8d0fb-b25a-4588-aac4-f9802795c51d",
      "metadata": {
        "id": "cbb8d0fb-b25a-4588-aac4-f9802795c51d",
        "outputId": "cfc91038-47a6-4331-ac1a-8cc68f8bd4b8"
      },
      "outputs": [
        {
          "data": {
            "text/plain": [
              "5.0"
            ]
          },
          "execution_count": 206,
          "metadata": {},
          "output_type": "execute_result"
        }
      ],
      "source": [
        "l[5].real"
      ]
    },
    {
      "cell_type": "code",
      "execution_count": null,
      "id": "ec45fd4d-cbb3-421a-823a-bf87542ac44b",
      "metadata": {
        "id": "ec45fd4d-cbb3-421a-823a-bf87542ac44b"
      },
      "outputs": [],
      "source": []
    },
    {
      "cell_type": "code",
      "execution_count": null,
      "id": "1d912421-85c0-4b4a-97c7-f7db6a242c1e",
      "metadata": {
        "id": "1d912421-85c0-4b4a-97c7-f7db6a242c1e"
      },
      "outputs": [],
      "source": []
    },
    {
      "cell_type": "code",
      "execution_count": null,
      "id": "97208361-a180-4cb7-88a1-6e4df0254c9e",
      "metadata": {
        "id": "97208361-a180-4cb7-88a1-6e4df0254c9e",
        "outputId": "473f03ff-5cd2-4afc-e5bd-aba88e2ea531"
      },
      "outputs": [
        {
          "data": {
            "text/plain": [
              "list"
            ]
          },
          "execution_count": 3,
          "metadata": {},
          "output_type": "execute_result"
        }
      ],
      "source": [
        "type(l)"
      ]
    },
    {
      "cell_type": "code",
      "execution_count": null,
      "id": "187c5ba4-b042-4b24-bbbc-00c54b5ff2b0",
      "metadata": {
        "id": "187c5ba4-b042-4b24-bbbc-00c54b5ff2b0",
        "outputId": "bacbf6e6-1134-4266-b21c-95656de11f27"
      },
      "outputs": [
        {
          "data": {
            "text/plain": [
              "1"
            ]
          },
          "execution_count": 4,
          "metadata": {},
          "output_type": "execute_result"
        }
      ],
      "source": [
        "l[0]"
      ]
    },
    {
      "cell_type": "code",
      "execution_count": null,
      "id": "456cfc58-4de9-495c-adb8-408e87eb4fbd",
      "metadata": {
        "id": "456cfc58-4de9-495c-adb8-408e87eb4fbd",
        "outputId": "9d1394dd-5e89-4780-ba5a-8ac7371d1e50"
      },
      "outputs": [
        {
          "data": {
            "text/plain": [
              "345.456"
            ]
          },
          "execution_count": 5,
          "metadata": {},
          "output_type": "execute_result"
        }
      ],
      "source": [
        "l[6]"
      ]
    },
    {
      "cell_type": "code",
      "execution_count": null,
      "id": "b55813bf-f44e-4863-a16c-04a8518fc6f8",
      "metadata": {
        "id": "b55813bf-f44e-4863-a16c-04a8518fc6f8",
        "outputId": "43ab45cc-6f5d-476b-8406-5b32906b3252"
      },
      "outputs": [
        {
          "ename": "IndexError",
          "evalue": "list index out of range",
          "output_type": "error",
          "traceback": [
            "\u001b[0;31m---------------------------------------------------------------------------\u001b[0m",
            "\u001b[0;31mIndexError\u001b[0m                                Traceback (most recent call last)",
            "Cell \u001b[0;32mIn[6], line 1\u001b[0m\n\u001b[0;32m----> 1\u001b[0m \u001b[43ml\u001b[49m\u001b[43m[\u001b[49m\u001b[38;5;241;43m90\u001b[39;49m\u001b[43m]\u001b[49m\n",
            "\u001b[0;31mIndexError\u001b[0m: list index out of range"
          ]
        }
      ],
      "source": [
        "l[90]"
      ]
    },
    {
      "cell_type": "code",
      "execution_count": null,
      "id": "f39b5ea3-6063-42ea-912c-c1a7a6e2a9d4",
      "metadata": {
        "id": "f39b5ea3-6063-42ea-912c-c1a7a6e2a9d4",
        "outputId": "16422d68-ab22-4c08-d885-a0a4d2e688e2"
      },
      "outputs": [
        {
          "data": {
            "text/plain": [
              "[1, 345, 45, 'sudh', True, (5+7j), 345.456]"
            ]
          },
          "execution_count": 7,
          "metadata": {},
          "output_type": "execute_result"
        }
      ],
      "source": [
        "l"
      ]
    },
    {
      "cell_type": "code",
      "execution_count": null,
      "id": "3fb61b2d-83f8-415d-b639-9e768dd1ca9a",
      "metadata": {
        "id": "3fb61b2d-83f8-415d-b639-9e768dd1ca9a",
        "outputId": "791910d6-a704-4f8c-9a96-4b2a85670d9e"
      },
      "outputs": [
        {
          "data": {
            "text/plain": [
              "[1, 345, 45]"
            ]
          },
          "execution_count": 8,
          "metadata": {},
          "output_type": "execute_result"
        }
      ],
      "source": [
        "l[0:3]"
      ]
    },
    {
      "cell_type": "code",
      "execution_count": null,
      "id": "143d0692-d2d2-4d5d-9ba7-d4ab3b053561",
      "metadata": {
        "id": "143d0692-d2d2-4d5d-9ba7-d4ab3b053561",
        "outputId": "e6942cf8-89c0-45f8-bb2c-17d65a192cbe"
      },
      "outputs": [
        {
          "data": {
            "text/plain": [
              "345.456"
            ]
          },
          "execution_count": 9,
          "metadata": {},
          "output_type": "execute_result"
        }
      ],
      "source": [
        "l[-1]"
      ]
    },
    {
      "cell_type": "code",
      "execution_count": null,
      "id": "72077b14-d777-454a-a6db-76e2156bde12",
      "metadata": {
        "id": "72077b14-d777-454a-a6db-76e2156bde12",
        "outputId": "107cd758-bac6-4e8f-f0dd-095d38ceb00c"
      },
      "outputs": [
        {
          "data": {
            "text/plain": [
              "[345.456, (5+7j), True, 'sudh', 45, 345, 1]"
            ]
          },
          "execution_count": 10,
          "metadata": {},
          "output_type": "execute_result"
        }
      ],
      "source": [
        "l[::-1]"
      ]
    },
    {
      "cell_type": "code",
      "execution_count": null,
      "id": "b9c75dfa-1935-4204-a87c-6106d35b679a",
      "metadata": {
        "id": "b9c75dfa-1935-4204-a87c-6106d35b679a",
        "outputId": "dd044e6c-9038-4e28-891b-4065d44620b4"
      },
      "outputs": [
        {
          "data": {
            "text/plain": [
              "[1, 45, True, 345.456]"
            ]
          },
          "execution_count": 11,
          "metadata": {},
          "output_type": "execute_result"
        }
      ],
      "source": [
        "l[::2]"
      ]
    },
    {
      "cell_type": "code",
      "execution_count": null,
      "id": "92e7ef2d-a462-4522-b20d-c65e265b0a3d",
      "metadata": {
        "id": "92e7ef2d-a462-4522-b20d-c65e265b0a3d",
        "outputId": "46f6d7d8-a881-4d99-805d-40995815729c"
      },
      "outputs": [
        {
          "data": {
            "text/plain": [
              "[1, 345, 45, 'sudh', True, (5+7j), 345.456]"
            ]
          },
          "execution_count": 12,
          "metadata": {},
          "output_type": "execute_result"
        }
      ],
      "source": [
        "l"
      ]
    },
    {
      "cell_type": "code",
      "execution_count": null,
      "id": "30885a98-4b66-4bae-a7a1-108db08ea7f4",
      "metadata": {
        "id": "30885a98-4b66-4bae-a7a1-108db08ea7f4"
      },
      "outputs": [],
      "source": [
        "s = \"pwskills\""
      ]
    },
    {
      "cell_type": "code",
      "execution_count": null,
      "id": "849ab546-4e87-4647-bafa-f9f43beb222b",
      "metadata": {
        "id": "849ab546-4e87-4647-bafa-f9f43beb222b",
        "outputId": "8c81d2ae-82e2-4581-cd60-23ce1b2bc338"
      },
      "outputs": [
        {
          "ename": "TypeError",
          "evalue": "can only concatenate list (not \"str\") to list",
          "output_type": "error",
          "traceback": [
            "\u001b[0;31m---------------------------------------------------------------------------\u001b[0m",
            "\u001b[0;31mTypeError\u001b[0m                                 Traceback (most recent call last)",
            "Cell \u001b[0;32mIn[14], line 1\u001b[0m\n\u001b[0;32m----> 1\u001b[0m \u001b[43ml\u001b[49m\u001b[38;5;241;43m+\u001b[39;49m\u001b[43ms\u001b[49m\n",
            "\u001b[0;31mTypeError\u001b[0m: can only concatenate list (not \"str\") to list"
          ]
        }
      ],
      "source": [
        "l+s"
      ]
    },
    {
      "cell_type": "code",
      "execution_count": null,
      "id": "afd051da-b034-4de3-aab9-4b891c5e2b31",
      "metadata": {
        "id": "afd051da-b034-4de3-aab9-4b891c5e2b31",
        "outputId": "ae3bfa65-78d7-495d-eb3d-ad27980adc0f"
      },
      "outputs": [
        {
          "data": {
            "text/plain": [
              "['p',\n",
              " 'w',\n",
              " 's',\n",
              " 'k',\n",
              " 'i',\n",
              " 'l',\n",
              " 'l',\n",
              " 's',\n",
              " 1,\n",
              " 345,\n",
              " 45,\n",
              " 'sudh',\n",
              " True,\n",
              " (5+7j),\n",
              " 345.456]"
            ]
          },
          "execution_count": 16,
          "metadata": {},
          "output_type": "execute_result"
        }
      ],
      "source": [
        "list(s) + l"
      ]
    },
    {
      "cell_type": "code",
      "execution_count": null,
      "id": "539d21e3-c7c4-4200-9df0-ca6c17f11b85",
      "metadata": {
        "id": "539d21e3-c7c4-4200-9df0-ca6c17f11b85",
        "outputId": "0f862ff6-7e23-40a6-af62-448f59a093f3"
      },
      "outputs": [
        {
          "data": {
            "text/plain": [
              "[1, 345, 45, 'sudh', True, (5+7j), 345.456]"
            ]
          },
          "execution_count": 17,
          "metadata": {},
          "output_type": "execute_result"
        }
      ],
      "source": [
        "l"
      ]
    },
    {
      "cell_type": "code",
      "execution_count": null,
      "id": "ec088a2a-b780-4d05-862e-403ad15fca75",
      "metadata": {
        "id": "ec088a2a-b780-4d05-862e-403ad15fca75",
        "outputId": "2462a707-5d66-4f53-e100-f55931680f7d"
      },
      "outputs": [
        {
          "data": {
            "text/plain": [
              "str"
            ]
          },
          "execution_count": 19,
          "metadata": {},
          "output_type": "execute_result"
        }
      ],
      "source": [
        "type(l[3])"
      ]
    },
    {
      "cell_type": "code",
      "execution_count": null,
      "id": "93d5626b-48f4-46ca-a66a-3ba2a0221199",
      "metadata": {
        "id": "93d5626b-48f4-46ca-a66a-3ba2a0221199",
        "outputId": "0e68307a-0128-4542-8ecd-8feec6584716"
      },
      "outputs": [
        {
          "data": {
            "text/plain": [
              "'su'"
            ]
          },
          "execution_count": 21,
          "metadata": {},
          "output_type": "execute_result"
        }
      ],
      "source": [
        "l[3][0:2]"
      ]
    },
    {
      "cell_type": "code",
      "execution_count": null,
      "id": "95db1dcf-1765-49c6-86b7-f1a4f67e7282",
      "metadata": {
        "id": "95db1dcf-1765-49c6-86b7-f1a4f67e7282",
        "outputId": "e9ae457d-865d-45bc-dd59-fd3dd2edf34e"
      },
      "outputs": [
        {
          "data": {
            "text/plain": [
              "True"
            ]
          },
          "execution_count": 22,
          "metadata": {},
          "output_type": "execute_result"
        }
      ],
      "source": [
        "l[4]"
      ]
    },
    {
      "cell_type": "code",
      "execution_count": null,
      "id": "90485008-f7c0-4549-8de8-cae7513473e4",
      "metadata": {
        "id": "90485008-f7c0-4549-8de8-cae7513473e4",
        "outputId": "3ab2bb5b-92cd-4bd3-f2e3-3b054b2bdd08"
      },
      "outputs": [
        {
          "data": {
            "text/plain": [
              "'Tr'"
            ]
          },
          "execution_count": 24,
          "metadata": {},
          "output_type": "execute_result"
        }
      ],
      "source": [
        "str(l[4])[0:2]"
      ]
    },
    {
      "cell_type": "code",
      "execution_count": null,
      "id": "7ec63b6f-90f9-4237-bcaf-f1ff2648cdfc",
      "metadata": {
        "id": "7ec63b6f-90f9-4237-bcaf-f1ff2648cdfc",
        "outputId": "f51ec581-949e-4b73-dbe3-9134084cfd1d"
      },
      "outputs": [
        {
          "data": {
            "text/plain": [
              "[1, 345, 45, 'sudh', True, (5+7j), 345.456]"
            ]
          },
          "execution_count": 25,
          "metadata": {},
          "output_type": "execute_result"
        }
      ],
      "source": [
        "l"
      ]
    },
    {
      "cell_type": "code",
      "execution_count": null,
      "id": "4af6c594-2025-424f-ade3-ebc3f5d3f5dc",
      "metadata": {
        "id": "4af6c594-2025-424f-ade3-ebc3f5d3f5dc",
        "outputId": "1eedf84a-2442-4c7c-db69-d8146613c1cb"
      },
      "outputs": [
        {
          "ename": "TypeError",
          "evalue": "can only concatenate list (not \"int\") to list",
          "output_type": "error",
          "traceback": [
            "\u001b[0;31m---------------------------------------------------------------------------\u001b[0m",
            "\u001b[0;31mTypeError\u001b[0m                                 Traceback (most recent call last)",
            "Cell \u001b[0;32mIn[26], line 1\u001b[0m\n\u001b[0;32m----> 1\u001b[0m \u001b[43ml\u001b[49m\u001b[38;5;241;43m+\u001b[39;49m\u001b[43m \u001b[49m\u001b[38;5;241;43m5\u001b[39;49m\n",
            "\u001b[0;31mTypeError\u001b[0m: can only concatenate list (not \"int\") to list"
          ]
        }
      ],
      "source": [
        "l+ 5"
      ]
    },
    {
      "cell_type": "code",
      "execution_count": null,
      "id": "97b79f8d-eb48-496b-9ead-ec5023d81012",
      "metadata": {
        "id": "97b79f8d-eb48-496b-9ead-ec5023d81012"
      },
      "outputs": [],
      "source": [
        "l1 = [3,4,5]"
      ]
    },
    {
      "cell_type": "code",
      "execution_count": null,
      "id": "69b5e226-e8a4-4db8-8ebd-26f32a1ed805",
      "metadata": {
        "id": "69b5e226-e8a4-4db8-8ebd-26f32a1ed805",
        "outputId": "df75f8d6-1f5c-4ad3-bc71-671f5542db8c"
      },
      "outputs": [
        {
          "data": {
            "text/plain": [
              "[1, 345, 45, 'sudh', True, (5+7j), 345.456, 3, 4, 5]"
            ]
          },
          "execution_count": 28,
          "metadata": {},
          "output_type": "execute_result"
        }
      ],
      "source": [
        "l+ l1"
      ]
    },
    {
      "cell_type": "code",
      "execution_count": null,
      "id": "6925449d-cafd-4ba4-a851-c808d19a9a66",
      "metadata": {
        "id": "6925449d-cafd-4ba4-a851-c808d19a9a66",
        "outputId": "871d2a6f-97ba-4aac-c81a-8b6b5ca762bd"
      },
      "outputs": [
        {
          "data": {
            "text/plain": [
              "[3, 4, 5, 3, 4, 5, 3, 4, 5]"
            ]
          },
          "execution_count": 30,
          "metadata": {},
          "output_type": "execute_result"
        }
      ],
      "source": [
        "l1 * 3"
      ]
    },
    {
      "cell_type": "code",
      "execution_count": null,
      "id": "f68ae252-1cce-4c7b-b34b-b3318fc5254b",
      "metadata": {
        "id": "f68ae252-1cce-4c7b-b34b-b3318fc5254b",
        "outputId": "825e0201-34ec-4594-9f31-528813514d95"
      },
      "outputs": [
        {
          "data": {
            "text/plain": [
              "[1, 345, 45, 'sudh', True, (5+7j), 345.456]"
            ]
          },
          "execution_count": 31,
          "metadata": {},
          "output_type": "execute_result"
        }
      ],
      "source": [
        "l"
      ]
    },
    {
      "cell_type": "code",
      "execution_count": null,
      "id": "f4ea3f7c-713d-40ca-8887-aac8a72c45bb",
      "metadata": {
        "id": "f4ea3f7c-713d-40ca-8887-aac8a72c45bb",
        "outputId": "7ca061ea-8740-4607-c1f8-d8d3ca7c994d"
      },
      "outputs": [
        {
          "data": {
            "text/plain": [
              "7"
            ]
          },
          "execution_count": 32,
          "metadata": {},
          "output_type": "execute_result"
        }
      ],
      "source": [
        "len(l)"
      ]
    },
    {
      "cell_type": "code",
      "execution_count": null,
      "id": "c1b4f6f2-e573-4a3e-a7d9-8c7ad9aef408",
      "metadata": {
        "id": "c1b4f6f2-e573-4a3e-a7d9-8c7ad9aef408",
        "outputId": "78815199-cba1-4ef0-8545-a471f1cdcd36"
      },
      "outputs": [
        {
          "data": {
            "text/plain": [
              "[1, 345, 45, 'sudh', True, (5+7j), 345.456]"
            ]
          },
          "execution_count": 33,
          "metadata": {},
          "output_type": "execute_result"
        }
      ],
      "source": [
        "l"
      ]
    },
    {
      "cell_type": "code",
      "execution_count": null,
      "id": "ecbbbd73-0b17-4f51-bc30-b7385d53a6d6",
      "metadata": {
        "id": "ecbbbd73-0b17-4f51-bc30-b7385d53a6d6"
      },
      "outputs": [],
      "source": [
        "l.append(5)"
      ]
    },
    {
      "cell_type": "code",
      "execution_count": null,
      "id": "eb502875-594e-42d8-889b-f2aa4331e087",
      "metadata": {
        "id": "eb502875-594e-42d8-889b-f2aa4331e087",
        "outputId": "c6471636-d7ae-4d23-ab0c-dc205d442f2f"
      },
      "outputs": [
        {
          "data": {
            "text/plain": [
              "[1, 345, 45, 'sudh', True, (5+7j), 345.456, 5]"
            ]
          },
          "execution_count": 35,
          "metadata": {},
          "output_type": "execute_result"
        }
      ],
      "source": [
        "l"
      ]
    },
    {
      "cell_type": "code",
      "execution_count": null,
      "id": "95895183-7d30-4049-ba3f-01ea818f5dc6",
      "metadata": {
        "id": "95895183-7d30-4049-ba3f-01ea818f5dc6"
      },
      "outputs": [],
      "source": [
        "l.append(s)"
      ]
    },
    {
      "cell_type": "code",
      "execution_count": null,
      "id": "37133e37-d391-4599-a3a5-49ed5b552c8e",
      "metadata": {
        "id": "37133e37-d391-4599-a3a5-49ed5b552c8e",
        "outputId": "b1fcff03-c531-4200-c439-c821d5c03832"
      },
      "outputs": [
        {
          "data": {
            "text/plain": [
              "'pwskills'"
            ]
          },
          "execution_count": 36,
          "metadata": {},
          "output_type": "execute_result"
        }
      ],
      "source": [
        "s"
      ]
    },
    {
      "cell_type": "code",
      "execution_count": null,
      "id": "260757a2-d534-4f3d-be0b-8ce47fc78610",
      "metadata": {
        "id": "260757a2-d534-4f3d-be0b-8ce47fc78610",
        "outputId": "d560794e-eb71-44ed-e1fb-c0bd47a26399"
      },
      "outputs": [
        {
          "data": {
            "text/plain": [
              "[1, 345, 45, 'sudh', True, (5+7j), 345.456, 5, 'pwskills']"
            ]
          },
          "execution_count": 38,
          "metadata": {},
          "output_type": "execute_result"
        }
      ],
      "source": [
        "l"
      ]
    },
    {
      "cell_type": "code",
      "execution_count": null,
      "id": "ad5dd049-4923-4bff-9156-21386c7d7598",
      "metadata": {
        "id": "ad5dd049-4923-4bff-9156-21386c7d7598",
        "outputId": "77a123cc-b8d0-4d61-9795-acbe076f6343"
      },
      "outputs": [
        {
          "data": {
            "text/plain": [
              "[1, 345, 45, 'sudh', True, (5+7j), 345.456, 5, 'pwskills']"
            ]
          },
          "execution_count": 39,
          "metadata": {},
          "output_type": "execute_result"
        }
      ],
      "source": [
        "l"
      ]
    },
    {
      "cell_type": "code",
      "execution_count": null,
      "id": "8fe6cf3d-2bf4-495c-bead-5b38f8ff787c",
      "metadata": {
        "id": "8fe6cf3d-2bf4-495c-bead-5b38f8ff787c",
        "outputId": "0716ab0f-feaf-418b-d7f4-dd1258e774c0"
      },
      "outputs": [
        {
          "data": {
            "text/plain": [
              "[3, 4, 5]"
            ]
          },
          "execution_count": 40,
          "metadata": {},
          "output_type": "execute_result"
        }
      ],
      "source": [
        "l1"
      ]
    },
    {
      "cell_type": "code",
      "execution_count": null,
      "id": "f38591ef-06f1-4a57-a423-fafae2aa226d",
      "metadata": {
        "id": "f38591ef-06f1-4a57-a423-fafae2aa226d"
      },
      "outputs": [],
      "source": [
        "l.append(l1)"
      ]
    },
    {
      "cell_type": "code",
      "execution_count": null,
      "id": "35e9895b-0e04-457e-9b78-81fcaa655249",
      "metadata": {
        "id": "35e9895b-0e04-457e-9b78-81fcaa655249",
        "outputId": "0bf7ab5e-1a37-4a6c-9921-3ab4b1b298a4"
      },
      "outputs": [
        {
          "data": {
            "text/plain": [
              "[1, 345, 45, 'sudh', True, (5+7j), 345.456, 5, 'pwskills', [3, 4, 5]]"
            ]
          },
          "execution_count": 42,
          "metadata": {},
          "output_type": "execute_result"
        }
      ],
      "source": [
        "l"
      ]
    },
    {
      "cell_type": "code",
      "execution_count": null,
      "id": "7104ecee-587c-4288-b82b-74f206828109",
      "metadata": {
        "id": "7104ecee-587c-4288-b82b-74f206828109",
        "outputId": "d67a86ce-3bd6-42b8-bafb-845d20affa6d"
      },
      "outputs": [
        {
          "data": {
            "text/plain": [
              "4"
            ]
          },
          "execution_count": 44,
          "metadata": {},
          "output_type": "execute_result"
        }
      ],
      "source": [
        "l[-1][1]"
      ]
    },
    {
      "cell_type": "code",
      "execution_count": null,
      "id": "84e31b8a-6fb3-4aa6-94f3-da2a45911b4f",
      "metadata": {
        "id": "84e31b8a-6fb3-4aa6-94f3-da2a45911b4f",
        "outputId": "22f91c6a-afdf-40bd-e32c-2c2b1f2be10a"
      },
      "outputs": [
        {
          "data": {
            "text/plain": [
              "[1, 345, 45, 'sudh', True, (5+7j), 345.456, 5, 'pwskills', [3, 4, 5]]"
            ]
          },
          "execution_count": 45,
          "metadata": {},
          "output_type": "execute_result"
        }
      ],
      "source": [
        "l"
      ]
    },
    {
      "cell_type": "code",
      "execution_count": null,
      "id": "a0353cc4-0920-41cb-a427-99126704c884",
      "metadata": {
        "id": "a0353cc4-0920-41cb-a427-99126704c884",
        "outputId": "8bb5cd1b-6d16-43d4-ea35-4e85ffeb6037"
      },
      "outputs": [
        {
          "ename": "TypeError",
          "evalue": "'int' object is not iterable",
          "output_type": "error",
          "traceback": [
            "\u001b[0;31m---------------------------------------------------------------------------\u001b[0m",
            "\u001b[0;31mTypeError\u001b[0m                                 Traceback (most recent call last)",
            "Cell \u001b[0;32mIn[46], line 1\u001b[0m\n\u001b[0;32m----> 1\u001b[0m \u001b[43ml\u001b[49m\u001b[38;5;241;43m.\u001b[39;49m\u001b[43mextend\u001b[49m\u001b[43m(\u001b[49m\u001b[38;5;241;43m4\u001b[39;49m\u001b[43m)\u001b[49m\n",
            "\u001b[0;31mTypeError\u001b[0m: 'int' object is not iterable"
          ]
        }
      ],
      "source": [
        "l.extend(4)"
      ]
    },
    {
      "cell_type": "code",
      "execution_count": null,
      "id": "cbf52c2a-fb93-4549-bd69-829fc468a2bf",
      "metadata": {
        "id": "cbf52c2a-fb93-4549-bd69-829fc468a2bf"
      },
      "outputs": [],
      "source": [
        "l.extend(\"sudh\")"
      ]
    },
    {
      "cell_type": "code",
      "execution_count": null,
      "id": "a8d5eb56-3f0b-49de-b77b-056f447db959",
      "metadata": {
        "id": "a8d5eb56-3f0b-49de-b77b-056f447db959",
        "outputId": "b1bc93fd-f139-43b5-f722-43a03e42fa4f"
      },
      "outputs": [
        {
          "data": {
            "text/plain": [
              "[1,\n",
              " 345,\n",
              " 45,\n",
              " 'sudh',\n",
              " True,\n",
              " (5+7j),\n",
              " 345.456,\n",
              " 5,\n",
              " 'pwskills',\n",
              " [3, 4, 5],\n",
              " 's',\n",
              " 'u',\n",
              " 'd',\n",
              " 'h']"
            ]
          },
          "execution_count": 48,
          "metadata": {},
          "output_type": "execute_result"
        }
      ],
      "source": [
        "l"
      ]
    },
    {
      "cell_type": "code",
      "execution_count": null,
      "id": "685e63e3-e53d-4442-8007-1cafcc0dd02c",
      "metadata": {
        "id": "685e63e3-e53d-4442-8007-1cafcc0dd02c"
      },
      "outputs": [],
      "source": [
        "l.extend([3,4,5])"
      ]
    },
    {
      "cell_type": "code",
      "execution_count": null,
      "id": "67f9263b-beae-4ad5-a24c-d9d31003668a",
      "metadata": {
        "id": "67f9263b-beae-4ad5-a24c-d9d31003668a",
        "outputId": "cd851ca2-7d06-481a-961c-bcdf6ce97e8e"
      },
      "outputs": [
        {
          "data": {
            "text/plain": [
              "[1,\n",
              " 345,\n",
              " 45,\n",
              " 'sudh',\n",
              " True,\n",
              " (5+7j),\n",
              " 345.456,\n",
              " 5,\n",
              " 'pwskills',\n",
              " [3, 4, 5],\n",
              " 's',\n",
              " 'u',\n",
              " 'd',\n",
              " 'h',\n",
              " 3,\n",
              " 4,\n",
              " 5]"
            ]
          },
          "execution_count": 51,
          "metadata": {},
          "output_type": "execute_result"
        }
      ],
      "source": [
        "l"
      ]
    },
    {
      "cell_type": "code",
      "execution_count": null,
      "id": "e0066d6a-0ff2-483b-8d77-24e46afeb8b4",
      "metadata": {
        "id": "e0066d6a-0ff2-483b-8d77-24e46afeb8b4",
        "outputId": "6eb50559-066b-4a29-a9cb-11147338befa"
      },
      "outputs": [
        {
          "data": {
            "text/plain": [
              "[3, 4, 5]"
            ]
          },
          "execution_count": 52,
          "metadata": {},
          "output_type": "execute_result"
        }
      ],
      "source": [
        "l1"
      ]
    },
    {
      "cell_type": "code",
      "execution_count": null,
      "id": "be4fd23d-6dcf-4a1f-a73a-c63545666b7e",
      "metadata": {
        "id": "be4fd23d-6dcf-4a1f-a73a-c63545666b7e"
      },
      "outputs": [],
      "source": [
        "l1.insert(1,\"sudh\")"
      ]
    },
    {
      "cell_type": "code",
      "execution_count": null,
      "id": "46410796-825a-4d1b-b02e-bf200b8b0646",
      "metadata": {
        "id": "46410796-825a-4d1b-b02e-bf200b8b0646",
        "outputId": "1947e72b-5d06-4b89-df88-2eecdaa1a3c4"
      },
      "outputs": [
        {
          "data": {
            "text/plain": [
              "[3, 'sudh', 4, 5]"
            ]
          },
          "execution_count": 54,
          "metadata": {},
          "output_type": "execute_result"
        }
      ],
      "source": [
        "l1"
      ]
    },
    {
      "cell_type": "code",
      "execution_count": null,
      "id": "a2e39ece-451a-4332-9100-b71b3a440edc",
      "metadata": {
        "id": "a2e39ece-451a-4332-9100-b71b3a440edc"
      },
      "outputs": [],
      "source": [
        "l1.insert(2 , [2,3,4])"
      ]
    },
    {
      "cell_type": "code",
      "execution_count": null,
      "id": "b9fd73f8-cf3b-46f6-a7c0-6d1bb9f75b9e",
      "metadata": {
        "id": "b9fd73f8-cf3b-46f6-a7c0-6d1bb9f75b9e",
        "outputId": "a5f9d2d4-bce9-4402-9569-d3b2a22de2c5"
      },
      "outputs": [
        {
          "data": {
            "text/plain": [
              "[3, 'sudh', [2, 3, 4], [2, 3, 4], 4, 5]"
            ]
          },
          "execution_count": 58,
          "metadata": {},
          "output_type": "execute_result"
        }
      ],
      "source": [
        "l1"
      ]
    },
    {
      "cell_type": "code",
      "execution_count": null,
      "id": "a0c9258b-5a67-471f-ba9e-cd972130f316",
      "metadata": {
        "id": "a0c9258b-5a67-471f-ba9e-cd972130f316"
      },
      "outputs": [],
      "source": [
        "l1.insert(-1 , 45)"
      ]
    },
    {
      "cell_type": "code",
      "execution_count": null,
      "id": "533eb7da-7815-4383-a627-86b789db9017",
      "metadata": {
        "id": "533eb7da-7815-4383-a627-86b789db9017",
        "outputId": "f235c007-b256-4764-80ce-48747940a587"
      },
      "outputs": [
        {
          "data": {
            "text/plain": [
              "[3, 'sudh', [2, 3, 4], [2, 3, 4], 4, 45, 5]"
            ]
          },
          "execution_count": 60,
          "metadata": {},
          "output_type": "execute_result"
        }
      ],
      "source": [
        "l1"
      ]
    },
    {
      "cell_type": "code",
      "execution_count": null,
      "id": "dfe603b5-8a3c-46e7-98ff-0c76f77ecc96",
      "metadata": {
        "id": "dfe603b5-8a3c-46e7-98ff-0c76f77ecc96"
      },
      "outputs": [],
      "source": [
        "l1.insert(0 , 45)"
      ]
    },
    {
      "cell_type": "code",
      "execution_count": null,
      "id": "4c52a091-4116-410b-aed9-7675f7f9b6ea",
      "metadata": {
        "id": "4c52a091-4116-410b-aed9-7675f7f9b6ea",
        "outputId": "c5e974c9-5a38-4857-ea97-b7aacb4530ea"
      },
      "outputs": [
        {
          "data": {
            "text/plain": [
              "[45, 3, 'sudh', [2, 3, 4], [2, 3, 4], 4, 45, 5]"
            ]
          },
          "execution_count": 62,
          "metadata": {},
          "output_type": "execute_result"
        }
      ],
      "source": [
        "l1"
      ]
    },
    {
      "cell_type": "code",
      "execution_count": null,
      "id": "c8fa3187-fbac-4a18-9a8c-d57087041b64",
      "metadata": {
        "id": "c8fa3187-fbac-4a18-9a8c-d57087041b64",
        "outputId": "f4cdf0f6-0764-4a60-de6b-36f945f21bf9"
      },
      "outputs": [
        {
          "data": {
            "text/plain": [
              "5"
            ]
          },
          "execution_count": 63,
          "metadata": {},
          "output_type": "execute_result"
        }
      ],
      "source": [
        "l1.pop()"
      ]
    },
    {
      "cell_type": "code",
      "execution_count": null,
      "id": "55b75e2e-1e00-44c7-b96b-13a318722e22",
      "metadata": {
        "id": "55b75e2e-1e00-44c7-b96b-13a318722e22",
        "outputId": "c686848b-5bb8-4d03-ac97-cc7025d3e9a7"
      },
      "outputs": [
        {
          "data": {
            "text/plain": [
              "[45, 3, 'sudh', [2, 3, 4], [2, 3, 4], 4, 45]"
            ]
          },
          "execution_count": 64,
          "metadata": {},
          "output_type": "execute_result"
        }
      ],
      "source": [
        "l1"
      ]
    },
    {
      "cell_type": "code",
      "execution_count": null,
      "id": "db9dca71-23e9-45b9-a76b-e05435185c00",
      "metadata": {
        "id": "db9dca71-23e9-45b9-a76b-e05435185c00",
        "outputId": "ec0d75c3-d60f-4314-f7af-d5c1d43dcd6f"
      },
      "outputs": [
        {
          "data": {
            "text/plain": [
              "45"
            ]
          },
          "execution_count": 65,
          "metadata": {},
          "output_type": "execute_result"
        }
      ],
      "source": [
        "l1.pop()"
      ]
    },
    {
      "cell_type": "code",
      "execution_count": null,
      "id": "9c745036-9be6-470a-8262-bc0e49e6451d",
      "metadata": {
        "id": "9c745036-9be6-470a-8262-bc0e49e6451d",
        "outputId": "93157d63-cfa9-407b-d631-943adea7e754"
      },
      "outputs": [
        {
          "data": {
            "text/plain": [
              "[45, 3, 'sudh', [2, 3, 4], [2, 3, 4], 4]"
            ]
          },
          "execution_count": 66,
          "metadata": {},
          "output_type": "execute_result"
        }
      ],
      "source": [
        "l1"
      ]
    },
    {
      "cell_type": "code",
      "execution_count": null,
      "id": "388b4f04-74b5-4d9a-97b2-e1402c41cc78",
      "metadata": {
        "id": "388b4f04-74b5-4d9a-97b2-e1402c41cc78",
        "outputId": "aea30de2-76fc-4af9-b8ce-24f6b8d328aa"
      },
      "outputs": [
        {
          "data": {
            "text/plain": [
              "[2, 3, 4]"
            ]
          },
          "execution_count": 67,
          "metadata": {},
          "output_type": "execute_result"
        }
      ],
      "source": [
        "l1.pop(3)"
      ]
    },
    {
      "cell_type": "code",
      "execution_count": null,
      "id": "c4c43495-007d-4650-a6fe-b0a703c25b84",
      "metadata": {
        "id": "c4c43495-007d-4650-a6fe-b0a703c25b84",
        "outputId": "98bbf3fd-8fb9-47b1-c025-8181ae813bf1"
      },
      "outputs": [
        {
          "data": {
            "text/plain": [
              "[45, 3, 'sudh', [2, 3, 4], 4]"
            ]
          },
          "execution_count": 68,
          "metadata": {},
          "output_type": "execute_result"
        }
      ],
      "source": [
        "l1"
      ]
    },
    {
      "cell_type": "code",
      "execution_count": null,
      "id": "419a91c8-0a4b-4bf6-8239-9b7ec8dbe8fc",
      "metadata": {
        "id": "419a91c8-0a4b-4bf6-8239-9b7ec8dbe8fc",
        "outputId": "d3e635b3-c911-48e0-d242-f511e35afb24"
      },
      "outputs": [
        {
          "data": {
            "text/plain": [
              "[45, 3, 'sudh', [2, 3, 4], 4]"
            ]
          },
          "execution_count": 69,
          "metadata": {},
          "output_type": "execute_result"
        }
      ],
      "source": [
        "l1"
      ]
    },
    {
      "cell_type": "code",
      "execution_count": null,
      "id": "de69f839-c7da-45b8-9b6b-95779d2db18f",
      "metadata": {
        "id": "de69f839-c7da-45b8-9b6b-95779d2db18f"
      },
      "outputs": [],
      "source": [
        "l1.remove(3)"
      ]
    },
    {
      "cell_type": "code",
      "execution_count": null,
      "id": "2749c86f-00fa-4f2f-a2a1-5f95b651824f",
      "metadata": {
        "id": "2749c86f-00fa-4f2f-a2a1-5f95b651824f",
        "outputId": "df1df14d-a0c3-4760-a319-b86f40b631e0"
      },
      "outputs": [
        {
          "data": {
            "text/plain": [
              "[45, 'sudh', [2, 3, 4], 4]"
            ]
          },
          "execution_count": 71,
          "metadata": {},
          "output_type": "execute_result"
        }
      ],
      "source": [
        "l1"
      ]
    },
    {
      "cell_type": "code",
      "execution_count": null,
      "id": "fc3a48a0-26c6-485a-80c6-e151c3bc2066",
      "metadata": {
        "id": "fc3a48a0-26c6-485a-80c6-e151c3bc2066",
        "outputId": "c2e8cdd2-3d66-487b-f29a-ff13db422fff"
      },
      "outputs": [
        {
          "ename": "ValueError",
          "evalue": "list.remove(x): x not in list",
          "output_type": "error",
          "traceback": [
            "\u001b[0;31m---------------------------------------------------------------------------\u001b[0m",
            "\u001b[0;31mValueError\u001b[0m                                Traceback (most recent call last)",
            "Cell \u001b[0;32mIn[72], line 1\u001b[0m\n\u001b[0;32m----> 1\u001b[0m \u001b[43ml1\u001b[49m\u001b[38;5;241;43m.\u001b[39;49m\u001b[43mremove\u001b[49m\u001b[43m(\u001b[49m\u001b[38;5;241;43m234\u001b[39;49m\u001b[43m)\u001b[49m\n",
            "\u001b[0;31mValueError\u001b[0m: list.remove(x): x not in list"
          ]
        }
      ],
      "source": [
        "l1.remove(234)"
      ]
    },
    {
      "cell_type": "code",
      "execution_count": null,
      "id": "8ae8d2ff-57cd-49ac-b822-4ddf8f6f41b6",
      "metadata": {
        "id": "8ae8d2ff-57cd-49ac-b822-4ddf8f6f41b6"
      },
      "outputs": [],
      "source": [
        "l1[2].remove(3)"
      ]
    },
    {
      "cell_type": "code",
      "execution_count": null,
      "id": "8df9a004-0aa6-4ddb-8849-70dad15ea4a2",
      "metadata": {
        "id": "8df9a004-0aa6-4ddb-8849-70dad15ea4a2",
        "outputId": "48e08a95-b156-40db-9182-aa4493c5702a"
      },
      "outputs": [
        {
          "data": {
            "text/plain": [
              "[45, 'sudh', [2, 4], 4]"
            ]
          },
          "execution_count": 75,
          "metadata": {},
          "output_type": "execute_result"
        }
      ],
      "source": [
        "l1"
      ]
    },
    {
      "cell_type": "code",
      "execution_count": null,
      "id": "6b4455d9-6b21-4d1d-bedd-3ea0e4599aab",
      "metadata": {
        "id": "6b4455d9-6b21-4d1d-bedd-3ea0e4599aab"
      },
      "outputs": [],
      "source": [
        "l1.append(4)"
      ]
    },
    {
      "cell_type": "code",
      "execution_count": null,
      "id": "72505858-f041-45d8-83ee-243c5c11ecb8",
      "metadata": {
        "id": "72505858-f041-45d8-83ee-243c5c11ecb8",
        "outputId": "45f88f48-fdfb-429e-dd8d-c6b7e5e90d7a"
      },
      "outputs": [
        {
          "data": {
            "text/plain": [
              "[45, 'sudh', [2, 4], 4, 4]"
            ]
          },
          "execution_count": 77,
          "metadata": {},
          "output_type": "execute_result"
        }
      ],
      "source": [
        "l1"
      ]
    },
    {
      "cell_type": "code",
      "execution_count": null,
      "id": "2fcf7bee-1323-4f50-9661-99891228793d",
      "metadata": {
        "id": "2fcf7bee-1323-4f50-9661-99891228793d"
      },
      "outputs": [],
      "source": [
        "l1.remove(4)"
      ]
    },
    {
      "cell_type": "code",
      "execution_count": null,
      "id": "31f4453f-5c9a-42ae-a40b-5c9c49e43a66",
      "metadata": {
        "id": "31f4453f-5c9a-42ae-a40b-5c9c49e43a66",
        "outputId": "ddd1c381-1a58-4dad-8022-1dcfa6c4cdcd"
      },
      "outputs": [
        {
          "data": {
            "text/plain": [
              "[45, 'sudh', [2, 4], 4]"
            ]
          },
          "execution_count": 79,
          "metadata": {},
          "output_type": "execute_result"
        }
      ],
      "source": [
        "l1"
      ]
    },
    {
      "cell_type": "code",
      "execution_count": null,
      "id": "73e799bb-6755-4d62-933b-ee451686381c",
      "metadata": {
        "id": "73e799bb-6755-4d62-933b-ee451686381c",
        "outputId": "79a42ad1-ada7-49a8-8e46-785ee6aeb756"
      },
      "outputs": [
        {
          "data": {
            "text/plain": [
              "[45, 'sudh', [2, 4], 4]"
            ]
          },
          "execution_count": 80,
          "metadata": {},
          "output_type": "execute_result"
        }
      ],
      "source": [
        "l1"
      ]
    },
    {
      "cell_type": "code",
      "execution_count": null,
      "id": "801a68da-97f2-43e6-9591-4d5038007f34",
      "metadata": {
        "id": "801a68da-97f2-43e6-9591-4d5038007f34",
        "outputId": "a4896960-8e65-48d6-c270-11b3152658b8"
      },
      "outputs": [
        {
          "data": {
            "text/plain": [
              "[4, [2, 4], 'sudh', 45]"
            ]
          },
          "execution_count": 81,
          "metadata": {},
          "output_type": "execute_result"
        }
      ],
      "source": [
        "l1 = l1[::-1]"
      ]
    },
    {
      "cell_type": "code",
      "execution_count": null,
      "id": "b8018775-9792-45a2-a989-56a0ae16c2de",
      "metadata": {
        "id": "b8018775-9792-45a2-a989-56a0ae16c2de"
      },
      "outputs": [],
      "source": [
        "l1.reverse()"
      ]
    },
    {
      "cell_type": "code",
      "execution_count": null,
      "id": "52c3b26c-f113-401e-a5b4-144942a9acc4",
      "metadata": {
        "id": "52c3b26c-f113-401e-a5b4-144942a9acc4",
        "outputId": "f3aa9074-0fd6-4895-cb28-2a4038e56121"
      },
      "outputs": [
        {
          "data": {
            "text/plain": [
              "[4, [2, 4], 'sudh', 45]"
            ]
          },
          "execution_count": 83,
          "metadata": {},
          "output_type": "execute_result"
        }
      ],
      "source": [
        "l1"
      ]
    },
    {
      "cell_type": "code",
      "execution_count": null,
      "id": "bb0803e0-5406-4cfa-a084-12f711e1d075",
      "metadata": {
        "id": "bb0803e0-5406-4cfa-a084-12f711e1d075",
        "outputId": "bbb7f7d7-2ebf-4d67-bc2c-11eefff84692"
      },
      "outputs": [
        {
          "data": {
            "text/plain": [
              "[4, [2, 4], 'sudh', 45]"
            ]
          },
          "execution_count": 84,
          "metadata": {},
          "output_type": "execute_result"
        }
      ],
      "source": [
        "l1"
      ]
    },
    {
      "cell_type": "code",
      "execution_count": null,
      "id": "9308f0ba-5e02-4b27-9fdf-98fddb1800a8",
      "metadata": {
        "id": "9308f0ba-5e02-4b27-9fdf-98fddb1800a8",
        "outputId": "e686ee59-2dcb-4a5e-c618-625fafa9d862"
      },
      "outputs": [
        {
          "ename": "TypeError",
          "evalue": "'<' not supported between instances of 'list' and 'int'",
          "output_type": "error",
          "traceback": [
            "\u001b[0;31m---------------------------------------------------------------------------\u001b[0m",
            "\u001b[0;31mTypeError\u001b[0m                                 Traceback (most recent call last)",
            "Cell \u001b[0;32mIn[85], line 1\u001b[0m\n\u001b[0;32m----> 1\u001b[0m \u001b[43ml1\u001b[49m\u001b[38;5;241;43m.\u001b[39;49m\u001b[43msort\u001b[49m\u001b[43m(\u001b[49m\u001b[43m)\u001b[49m\n",
            "\u001b[0;31mTypeError\u001b[0m: '<' not supported between instances of 'list' and 'int'"
          ]
        }
      ],
      "source": [
        "l1.sort()"
      ]
    },
    {
      "cell_type": "code",
      "execution_count": null,
      "id": "e12d1522-3e34-4d2b-b939-7520513693ad",
      "metadata": {
        "id": "e12d1522-3e34-4d2b-b939-7520513693ad"
      },
      "outputs": [],
      "source": [
        "l2 = [45,23,90,0,3,4,5,6,7,8,9]"
      ]
    },
    {
      "cell_type": "code",
      "execution_count": null,
      "id": "b24295db-d862-4484-8fe4-2b447f89d27d",
      "metadata": {
        "id": "b24295db-d862-4484-8fe4-2b447f89d27d"
      },
      "outputs": [],
      "source": [
        "l2.sort()"
      ]
    },
    {
      "cell_type": "code",
      "execution_count": null,
      "id": "64effa6b-88e6-4c13-a451-186e427a7e40",
      "metadata": {
        "id": "64effa6b-88e6-4c13-a451-186e427a7e40",
        "outputId": "2833ce17-add0-43ee-9777-0b80591ba3bf"
      },
      "outputs": [
        {
          "data": {
            "text/plain": [
              "[0, 3, 4, 5, 6, 7, 8, 9, 23, 45, 90]"
            ]
          },
          "execution_count": 91,
          "metadata": {},
          "output_type": "execute_result"
        }
      ],
      "source": [
        "l2"
      ]
    },
    {
      "cell_type": "code",
      "execution_count": null,
      "id": "dd8cd691-d671-472d-ba5b-96f0a54b13bb",
      "metadata": {
        "id": "dd8cd691-d671-472d-ba5b-96f0a54b13bb",
        "outputId": "72355a21-4288-4b4b-b07e-9b8dc1fca169"
      },
      "outputs": [
        {
          "data": {
            "text/plain": [
              "[0, 3, 4, 5, 6, 7, 8, 9, 23, 45, 90]"
            ]
          },
          "execution_count": 92,
          "metadata": {},
          "output_type": "execute_result"
        }
      ],
      "source": [
        "l2"
      ]
    },
    {
      "cell_type": "code",
      "execution_count": null,
      "id": "eaee0d57-f30e-4f25-b194-bd5481df660c",
      "metadata": {
        "id": "eaee0d57-f30e-4f25-b194-bd5481df660c"
      },
      "outputs": [],
      "source": [
        "l3 = [34,\"sudh\",45,12,\"kumar\"]"
      ]
    },
    {
      "cell_type": "code",
      "execution_count": null,
      "id": "4e76f1a2-3492-4739-b191-3f7472e059d1",
      "metadata": {
        "id": "4e76f1a2-3492-4739-b191-3f7472e059d1",
        "outputId": "23e6ae6e-119b-4783-b973-475a0b04f59b"
      },
      "outputs": [
        {
          "ename": "TypeError",
          "evalue": "'<' not supported between instances of 'str' and 'int'",
          "output_type": "error",
          "traceback": [
            "\u001b[0;31m---------------------------------------------------------------------------\u001b[0m",
            "\u001b[0;31mTypeError\u001b[0m                                 Traceback (most recent call last)",
            "Cell \u001b[0;32mIn[94], line 1\u001b[0m\n\u001b[0;32m----> 1\u001b[0m \u001b[43ml3\u001b[49m\u001b[38;5;241;43m.\u001b[39;49m\u001b[43msort\u001b[49m\u001b[43m(\u001b[49m\u001b[43m)\u001b[49m\n",
            "\u001b[0;31mTypeError\u001b[0m: '<' not supported between instances of 'str' and 'int'"
          ]
        }
      ],
      "source": [
        "l3.sort()"
      ]
    },
    {
      "cell_type": "code",
      "execution_count": null,
      "id": "163782b7-f9be-4c6e-b134-9527ce66fe1f",
      "metadata": {
        "id": "163782b7-f9be-4c6e-b134-9527ce66fe1f"
      },
      "outputs": [],
      "source": [
        "l4 = [\"sudh\" , \"kumar\" , \"pwskills\" , \"data science\"]"
      ]
    },
    {
      "cell_type": "code",
      "execution_count": null,
      "id": "b4dbcc39-ed42-4321-bc99-bd56662176d1",
      "metadata": {
        "id": "b4dbcc39-ed42-4321-bc99-bd56662176d1"
      },
      "outputs": [],
      "source": [
        "l4.sort(reverse=True)"
      ]
    },
    {
      "cell_type": "code",
      "execution_count": null,
      "id": "985c7546-46d4-4340-ad2b-5d470e8230bf",
      "metadata": {
        "id": "985c7546-46d4-4340-ad2b-5d470e8230bf",
        "outputId": "fbfc4850-a6fd-46e9-a922-5beeb0430671"
      },
      "outputs": [
        {
          "data": {
            "text/plain": [
              "['sudh', 'pwskills', 'kumar', 'data science']"
            ]
          },
          "execution_count": 99,
          "metadata": {},
          "output_type": "execute_result"
        }
      ],
      "source": [
        "l4"
      ]
    },
    {
      "cell_type": "code",
      "execution_count": null,
      "id": "058c1bc8-6942-4b27-bce2-0173ed4048a9",
      "metadata": {
        "id": "058c1bc8-6942-4b27-bce2-0173ed4048a9",
        "outputId": "08f9fe5a-f2b7-4141-d877-7ca5360f4f7c"
      },
      "outputs": [
        {
          "data": {
            "text/plain": [
              "['sudh', 'pwskills', 'kumar', 'data science']"
            ]
          },
          "execution_count": 100,
          "metadata": {},
          "output_type": "execute_result"
        }
      ],
      "source": [
        "l4"
      ]
    },
    {
      "cell_type": "code",
      "execution_count": null,
      "id": "41df8f5a-9f3d-4cab-80b4-2542071a46ba",
      "metadata": {
        "id": "41df8f5a-9f3d-4cab-80b4-2542071a46ba",
        "outputId": "50360530-27a3-4e09-a753-6ccaf4c0c23a"
      },
      "outputs": [
        {
          "data": {
            "text/plain": [
              "0"
            ]
          },
          "execution_count": 101,
          "metadata": {},
          "output_type": "execute_result"
        }
      ],
      "source": [
        "l4.index(\"sudh\")"
      ]
    },
    {
      "cell_type": "code",
      "execution_count": null,
      "id": "71e16c1b-9c46-42e4-a355-564d5dc2d933",
      "metadata": {
        "id": "71e16c1b-9c46-42e4-a355-564d5dc2d933",
        "outputId": "bb4688db-a7ad-4efd-cbd3-0ddd981a5694"
      },
      "outputs": [
        {
          "data": {
            "text/plain": [
              "1"
            ]
          },
          "execution_count": 102,
          "metadata": {},
          "output_type": "execute_result"
        }
      ],
      "source": [
        "l4.count(\"sudh\")"
      ]
    },
    {
      "cell_type": "code",
      "execution_count": null,
      "id": "68e76fa3-301c-4e6b-84de-f9987fe31171",
      "metadata": {
        "id": "68e76fa3-301c-4e6b-84de-f9987fe31171"
      },
      "outputs": [],
      "source": [
        "s= \"sudh\""
      ]
    },
    {
      "cell_type": "code",
      "execution_count": null,
      "id": "4b753c86-5523-4efe-8170-10ea64777143",
      "metadata": {
        "id": "4b753c86-5523-4efe-8170-10ea64777143"
      },
      "outputs": [],
      "source": [
        "l5 = [3,4,5,6]"
      ]
    },
    {
      "cell_type": "code",
      "execution_count": null,
      "id": "080b6e8b-cf59-4fee-8739-116ed475f9df",
      "metadata": {
        "id": "080b6e8b-cf59-4fee-8739-116ed475f9df",
        "outputId": "588fa393-bb13-4e33-bf6b-18961fed7d19"
      },
      "outputs": [
        {
          "ename": "TypeError",
          "evalue": "'str' object does not support item assignment",
          "output_type": "error",
          "traceback": [
            "\u001b[0;31m---------------------------------------------------------------------------\u001b[0m",
            "\u001b[0;31mTypeError\u001b[0m                                 Traceback (most recent call last)",
            "Cell \u001b[0;32mIn[106], line 1\u001b[0m\n\u001b[0;32m----> 1\u001b[0m \u001b[43ms\u001b[49m\u001b[43m[\u001b[49m\u001b[38;5;241;43m0\u001b[39;49m\u001b[43m]\u001b[49m \u001b[38;5;241m=\u001b[39m \u001b[38;5;124m'\u001b[39m\u001b[38;5;124ma\u001b[39m\u001b[38;5;124m'\u001b[39m\n",
            "\u001b[0;31mTypeError\u001b[0m: 'str' object does not support item assignment"
          ]
        }
      ],
      "source": [
        "s[0] = 'a'"
      ]
    },
    {
      "cell_type": "code",
      "execution_count": null,
      "id": "89a4fa3f-ee7c-4814-a855-0869c82608cf",
      "metadata": {
        "id": "89a4fa3f-ee7c-4814-a855-0869c82608cf"
      },
      "outputs": [],
      "source": [
        "l5[0] = 30"
      ]
    },
    {
      "cell_type": "code",
      "execution_count": null,
      "id": "0edd5445-514f-4a42-b2dc-243aa957086e",
      "metadata": {
        "id": "0edd5445-514f-4a42-b2dc-243aa957086e",
        "outputId": "8c7cce7a-db4b-4953-91c3-c762d57dce5a"
      },
      "outputs": [
        {
          "data": {
            "text/plain": [
              "[30, 4, 5, 6]"
            ]
          },
          "execution_count": 109,
          "metadata": {},
          "output_type": "execute_result"
        }
      ],
      "source": [
        "l5"
      ]
    },
    {
      "cell_type": "code",
      "execution_count": null,
      "id": "fb0c020d-643a-4fce-8d14-c456a16cd811",
      "metadata": {
        "id": "fb0c020d-643a-4fce-8d14-c456a16cd811",
        "outputId": "56883911-3dd7-4293-8a1e-3f4ac5cabaa8"
      },
      "outputs": [
        {
          "data": {
            "text/plain": [
              "'sudh'"
            ]
          },
          "execution_count": 110,
          "metadata": {},
          "output_type": "execute_result"
        }
      ],
      "source": [
        "s"
      ]
    },
    {
      "cell_type": "code",
      "execution_count": null,
      "id": "425d956f-bb07-4b6c-91ef-e25c9affe145",
      "metadata": {
        "id": "425d956f-bb07-4b6c-91ef-e25c9affe145",
        "outputId": "68f59a88-a299-4ea7-e4a9-4eb0941ebb73"
      },
      "outputs": [
        {
          "data": {
            "text/plain": [
              "'audh'"
            ]
          },
          "execution_count": 113,
          "metadata": {},
          "output_type": "execute_result"
        }
      ],
      "source": [
        "s.replace('s' , 'a')"
      ]
    },
    {
      "cell_type": "code",
      "execution_count": null,
      "id": "c0a39d1a-e78c-4d05-932b-df26f72c733c",
      "metadata": {
        "id": "c0a39d1a-e78c-4d05-932b-df26f72c733c",
        "outputId": "da9f6621-9c2b-4fc0-a110-6cd70165b991"
      },
      "outputs": [
        {
          "data": {
            "text/plain": [
              "'sudh'"
            ]
          },
          "execution_count": 112,
          "metadata": {},
          "output_type": "execute_result"
        }
      ],
      "source": [
        "s"
      ]
    },
    {
      "cell_type": "code",
      "execution_count": null,
      "id": "af37d671-c116-4d64-b579-24d41783acb7",
      "metadata": {
        "id": "af37d671-c116-4d64-b579-24d41783acb7"
      },
      "outputs": [],
      "source": [
        "t = (2,3,4,5,\"sudh\" , 45.56, False , 45+457j , [3,4,5] )"
      ]
    },
    {
      "cell_type": "code",
      "execution_count": null,
      "id": "99555c69-e606-435e-920b-5b1f85f62bd2",
      "metadata": {
        "id": "99555c69-e606-435e-920b-5b1f85f62bd2",
        "outputId": "4108ce70-84cb-451f-d720-f329856ff53d"
      },
      "outputs": [
        {
          "data": {
            "text/plain": [
              "(2, 3, 4, 5, 'sudh', 45.56, False, (45+457j), [3, 4, 5])"
            ]
          },
          "execution_count": 116,
          "metadata": {},
          "output_type": "execute_result"
        }
      ],
      "source": [
        "t"
      ]
    },
    {
      "cell_type": "code",
      "execution_count": null,
      "id": "01d3cb40-274a-48a1-9b14-5b6211983d90",
      "metadata": {
        "id": "01d3cb40-274a-48a1-9b14-5b6211983d90",
        "outputId": "5923f35d-1526-4ea4-cd1d-0625877e9af4"
      },
      "outputs": [
        {
          "data": {
            "text/plain": [
              "tuple"
            ]
          },
          "execution_count": 117,
          "metadata": {},
          "output_type": "execute_result"
        }
      ],
      "source": [
        "type(t)"
      ]
    },
    {
      "cell_type": "code",
      "execution_count": null,
      "id": "6471ef16-bd20-473f-84aa-05385d86b736",
      "metadata": {
        "id": "6471ef16-bd20-473f-84aa-05385d86b736",
        "outputId": "7071a493-dfed-4da8-bdc0-d92e3a6f3bf8"
      },
      "outputs": [
        {
          "data": {
            "text/plain": [
              "9"
            ]
          },
          "execution_count": 118,
          "metadata": {},
          "output_type": "execute_result"
        }
      ],
      "source": [
        "len(t)"
      ]
    },
    {
      "cell_type": "code",
      "execution_count": null,
      "id": "d3783fb9-5ce1-445e-905f-920438806835",
      "metadata": {
        "id": "d3783fb9-5ce1-445e-905f-920438806835",
        "outputId": "08da3239-286d-4f32-cbb1-11bd797acb26"
      },
      "outputs": [
        {
          "data": {
            "text/plain": [
              "2"
            ]
          },
          "execution_count": 119,
          "metadata": {},
          "output_type": "execute_result"
        }
      ],
      "source": [
        "t[0]"
      ]
    },
    {
      "cell_type": "code",
      "execution_count": null,
      "id": "1ad98040-c3fc-4bbc-b039-856c3b9d900b",
      "metadata": {
        "id": "1ad98040-c3fc-4bbc-b039-856c3b9d900b",
        "outputId": "bed2ea65-87bb-464a-d10f-292be0002af4"
      },
      "outputs": [
        {
          "data": {
            "text/plain": [
              "[3, 4, 5]"
            ]
          },
          "execution_count": 120,
          "metadata": {},
          "output_type": "execute_result"
        }
      ],
      "source": [
        "t[-1]"
      ]
    },
    {
      "cell_type": "code",
      "execution_count": null,
      "id": "8561e7c9-b7f2-4189-a65c-6bcb66fc505c",
      "metadata": {
        "id": "8561e7c9-b7f2-4189-a65c-6bcb66fc505c",
        "outputId": "4c2ec26c-7359-4096-f9f5-f40e59506231"
      },
      "outputs": [
        {
          "data": {
            "text/plain": [
              "([3, 4, 5], (45+457j), False, 45.56, 'sudh', 5, 4, 3, 2)"
            ]
          },
          "execution_count": 121,
          "metadata": {},
          "output_type": "execute_result"
        }
      ],
      "source": [
        "t[::-1]"
      ]
    },
    {
      "cell_type": "code",
      "execution_count": null,
      "id": "a8a5d2ea-0f3c-4c5e-b6a1-a4b4175af331",
      "metadata": {
        "id": "a8a5d2ea-0f3c-4c5e-b6a1-a4b4175af331",
        "outputId": "c3907488-9202-4e68-e486-092a61e87f1e"
      },
      "outputs": [
        {
          "data": {
            "text/plain": [
              "['sudh', 'pwskills', 'kumar', 'data science']"
            ]
          },
          "execution_count": 122,
          "metadata": {},
          "output_type": "execute_result"
        }
      ],
      "source": [
        "l4"
      ]
    },
    {
      "cell_type": "code",
      "execution_count": null,
      "id": "a2e42340-d052-418a-9c79-d7a9004d2f54",
      "metadata": {
        "id": "a2e42340-d052-418a-9c79-d7a9004d2f54"
      },
      "outputs": [],
      "source": [
        "l4[0] = 23424"
      ]
    },
    {
      "cell_type": "code",
      "execution_count": null,
      "id": "a52276fd-e96a-4d79-915d-64dde9962421",
      "metadata": {
        "id": "a52276fd-e96a-4d79-915d-64dde9962421",
        "outputId": "ad82ab0d-1908-408c-9b3e-3372d7472010"
      },
      "outputs": [
        {
          "data": {
            "text/plain": [
              "[23424, 'pwskills', 'kumar', 'data science']"
            ]
          },
          "execution_count": 125,
          "metadata": {},
          "output_type": "execute_result"
        }
      ],
      "source": [
        "l4"
      ]
    },
    {
      "cell_type": "code",
      "execution_count": null,
      "id": "724c4992-26bf-4773-b94f-ae5cd7e9ab2f",
      "metadata": {
        "id": "724c4992-26bf-4773-b94f-ae5cd7e9ab2f",
        "outputId": "351f0cd4-29ac-413d-970c-842c663c1b8b"
      },
      "outputs": [
        {
          "data": {
            "text/plain": [
              "(2, 3, 4, 5, 'sudh', 45.56, False, (45+457j), [3, 4, 5])"
            ]
          },
          "execution_count": 126,
          "metadata": {},
          "output_type": "execute_result"
        }
      ],
      "source": [
        "t"
      ]
    },
    {
      "cell_type": "code",
      "execution_count": null,
      "id": "3a41e7a8-19d0-4d15-8016-6ff554af0d08",
      "metadata": {
        "id": "3a41e7a8-19d0-4d15-8016-6ff554af0d08",
        "outputId": "882a4e4b-3e9b-42c5-d2e8-3f51d1d231df"
      },
      "outputs": [
        {
          "ename": "TypeError",
          "evalue": "'tuple' object does not support item assignment",
          "output_type": "error",
          "traceback": [
            "\u001b[0;31m---------------------------------------------------------------------------\u001b[0m",
            "\u001b[0;31mTypeError\u001b[0m                                 Traceback (most recent call last)",
            "Cell \u001b[0;32mIn[128], line 1\u001b[0m\n\u001b[0;32m----> 1\u001b[0m \u001b[43mt\u001b[49m\u001b[43m[\u001b[49m\u001b[38;5;241;43m0\u001b[39;49m\u001b[43m]\u001b[49m \u001b[38;5;241m=\u001b[39m \u001b[38;5;124m\"\u001b[39m\u001b[38;5;124msudh\u001b[39m\u001b[38;5;124m\"\u001b[39m\n",
            "\u001b[0;31mTypeError\u001b[0m: 'tuple' object does not support item assignment"
          ]
        }
      ],
      "source": [
        "t[0] = \"sudh\""
      ]
    },
    {
      "cell_type": "code",
      "execution_count": null,
      "id": "9908d4ae-a9d2-441f-bc2e-60be67faba8d",
      "metadata": {
        "id": "9908d4ae-a9d2-441f-bc2e-60be67faba8d",
        "outputId": "fdb95263-bd54-44f8-be57-c5f4b66f8363"
      },
      "outputs": [
        {
          "data": {
            "text/plain": [
              "([3, 4, 5], (45+457j), False, 45.56, 'sudh', 5, 4, 3, 2)"
            ]
          },
          "execution_count": 130,
          "metadata": {},
          "output_type": "execute_result"
        }
      ],
      "source": [
        "t[::-1]"
      ]
    },
    {
      "cell_type": "code",
      "execution_count": null,
      "id": "7ea426ac-4b10-40ca-b748-bccc718e5fc3",
      "metadata": {
        "id": "7ea426ac-4b10-40ca-b748-bccc718e5fc3",
        "outputId": "3b4add5a-5e1a-484d-944a-be12c393eb3f"
      },
      "outputs": [
        {
          "data": {
            "text/plain": [
              "0"
            ]
          },
          "execution_count": 132,
          "metadata": {},
          "output_type": "execute_result"
        }
      ],
      "source": [
        "t.count(50)"
      ]
    },
    {
      "cell_type": "code",
      "execution_count": null,
      "id": "599a154c-0e32-46ea-95c2-0b1890b8befb",
      "metadata": {
        "id": "599a154c-0e32-46ea-95c2-0b1890b8befb",
        "outputId": "e415b7ba-2092-4c65-fd95-8648d96e7083"
      },
      "outputs": [
        {
          "data": {
            "text/plain": [
              "6"
            ]
          },
          "execution_count": 133,
          "metadata": {},
          "output_type": "execute_result"
        }
      ],
      "source": [
        "t.index(False)"
      ]
    },
    {
      "cell_type": "code",
      "execution_count": null,
      "id": "647cab93-e9b2-437e-93c6-ba20e8bbea36",
      "metadata": {
        "id": "647cab93-e9b2-437e-93c6-ba20e8bbea36",
        "outputId": "298a3610-720a-4e70-e7a6-546a4593544b"
      },
      "outputs": [
        {
          "data": {
            "text/plain": [
              "(2, 3, 4, 5, 'sudh', 45.56, False, (45+457j), [3, 4, 5])"
            ]
          },
          "execution_count": 134,
          "metadata": {},
          "output_type": "execute_result"
        }
      ],
      "source": [
        "t"
      ]
    },
    {
      "cell_type": "code",
      "execution_count": null,
      "id": "06358c4b-54c1-4963-b252-234683c2ca0b",
      "metadata": {
        "id": "06358c4b-54c1-4963-b252-234683c2ca0b"
      },
      "outputs": [],
      "source": [
        "s1 = {}"
      ]
    },
    {
      "cell_type": "code",
      "execution_count": null,
      "id": "1721bc68-7695-4590-98a0-3d66e57e63e0",
      "metadata": {
        "id": "1721bc68-7695-4590-98a0-3d66e57e63e0",
        "outputId": "167ca3d7-cc0c-4d4c-fb96-5a269b8fdf0f"
      },
      "outputs": [
        {
          "data": {
            "text/plain": [
              "dict"
            ]
          },
          "execution_count": 136,
          "metadata": {},
          "output_type": "execute_result"
        }
      ],
      "source": [
        "type(s1)"
      ]
    },
    {
      "cell_type": "code",
      "execution_count": null,
      "id": "d3d5d7a9-7bd0-4832-8da3-b3e578c1af98",
      "metadata": {
        "id": "d3d5d7a9-7bd0-4832-8da3-b3e578c1af98"
      },
      "outputs": [],
      "source": [
        "s2 = {2,3,4,55,6}"
      ]
    },
    {
      "cell_type": "code",
      "execution_count": null,
      "id": "868e3ec0-73c4-4a9d-a1be-38b58e92079c",
      "metadata": {
        "id": "868e3ec0-73c4-4a9d-a1be-38b58e92079c",
        "outputId": "a3a277ff-1bb5-4bb5-8a97-23ca881c7e88"
      },
      "outputs": [
        {
          "data": {
            "text/plain": [
              "set"
            ]
          },
          "execution_count": 140,
          "metadata": {},
          "output_type": "execute_result"
        }
      ],
      "source": [
        "type(s2)"
      ]
    },
    {
      "cell_type": "code",
      "execution_count": null,
      "id": "365e66ba-3e22-4060-b918-de1a0102b9ea",
      "metadata": {
        "id": "365e66ba-3e22-4060-b918-de1a0102b9ea"
      },
      "outputs": [],
      "source": [
        "s3 = {324,456,456, \"sudh\" , 45+45j ,34.465 , (3,4,5)}"
      ]
    },
    {
      "cell_type": "code",
      "execution_count": null,
      "id": "2b77074c-7de6-4bce-845e-49b068669f0d",
      "metadata": {
        "id": "2b77074c-7de6-4bce-845e-49b068669f0d",
        "outputId": "97387ecf-4d94-4580-9092-b978bc849fe0"
      },
      "outputs": [
        {
          "data": {
            "text/plain": [
              "{(3, 4, 5), (45+45j), 324, 34.465, 456, 'sudh'}"
            ]
          },
          "execution_count": 144,
          "metadata": {},
          "output_type": "execute_result"
        }
      ],
      "source": [
        "s3"
      ]
    },
    {
      "cell_type": "code",
      "execution_count": null,
      "id": "c94bd388-48e1-406c-851c-df16b5f300a6",
      "metadata": {
        "id": "c94bd388-48e1-406c-851c-df16b5f300a6"
      },
      "outputs": [],
      "source": [
        "s4 = {2,3,4,5,6,2,2,3,4,5,2,3,1,2,3,4,5,6,1,2,2,3, 'Sudh', 'sudh'}"
      ]
    },
    {
      "cell_type": "code",
      "execution_count": null,
      "id": "0cd42da9-c2e5-4a77-832b-3ca2a6b7580f",
      "metadata": {
        "id": "0cd42da9-c2e5-4a77-832b-3ca2a6b7580f",
        "outputId": "1e75a3d8-1f7b-469c-ba16-2a481053724f"
      },
      "outputs": [
        {
          "data": {
            "text/plain": [
              "{1, 2, 3, 4, 5, 6, 'Sudh', 'sudh'}"
            ]
          },
          "execution_count": 148,
          "metadata": {},
          "output_type": "execute_result"
        }
      ],
      "source": [
        "s4"
      ]
    },
    {
      "cell_type": "code",
      "execution_count": null,
      "id": "af5195d6-f983-498d-9ebc-a19f67381611",
      "metadata": {
        "id": "af5195d6-f983-498d-9ebc-a19f67381611"
      },
      "outputs": [],
      "source": [
        "l6 = [2,3,4,5,6,2,2,3,4,5,2,3,1,2,3,4,5,6,1,2,2,3, 'Sudh', 'sudh']"
      ]
    },
    {
      "cell_type": "code",
      "execution_count": null,
      "id": "f90ff400-dc96-4e0b-a714-756c38dabf43",
      "metadata": {
        "id": "f90ff400-dc96-4e0b-a714-756c38dabf43"
      },
      "outputs": [],
      "source": [
        "l6 = list(set(l6))"
      ]
    },
    {
      "cell_type": "code",
      "execution_count": null,
      "id": "78772c14-fc19-474a-a957-3f597276f0ca",
      "metadata": {
        "id": "78772c14-fc19-474a-a957-3f597276f0ca",
        "outputId": "0e951877-8de8-41ce-8eff-73f525efef0a"
      },
      "outputs": [
        {
          "data": {
            "text/plain": [
              "[1, 2, 3, 4, 5, 6, 'sudh', 'Sudh']"
            ]
          },
          "execution_count": 154,
          "metadata": {},
          "output_type": "execute_result"
        }
      ],
      "source": [
        "l6"
      ]
    },
    {
      "cell_type": "code",
      "execution_count": null,
      "id": "1048cb2f-a896-4e4a-9361-b433279749d5",
      "metadata": {
        "id": "1048cb2f-a896-4e4a-9361-b433279749d5"
      },
      "outputs": [],
      "source": [
        "s5 = {234,45,23,12,567,45,2,789,234,\"abc\", 456,342,23}"
      ]
    },
    {
      "cell_type": "code",
      "execution_count": null,
      "id": "3193c611-74ab-4ef8-b7a9-1f257c204587",
      "metadata": {
        "id": "3193c611-74ab-4ef8-b7a9-1f257c204587",
        "outputId": "640f230b-6413-4330-ca3c-1fff0d07b88d"
      },
      "outputs": [
        {
          "data": {
            "text/plain": [
              "{12, 2, 23, 234, 342, 45, 456, 567, 789, 'abc'}"
            ]
          },
          "execution_count": 157,
          "metadata": {},
          "output_type": "execute_result"
        }
      ],
      "source": [
        "s5"
      ]
    },
    {
      "cell_type": "code",
      "execution_count": null,
      "id": "9655fd78-e4c2-43ed-bc3a-74a980b479f3",
      "metadata": {
        "id": "9655fd78-e4c2-43ed-bc3a-74a980b479f3",
        "outputId": "7bbe1a64-0fb4-4443-c779-e5bf345d071d"
      },
      "outputs": [
        {
          "data": {
            "text/plain": [
              "{12, 2, 23, 234, 342, 45, 456, 567, 789, 'abc'}"
            ]
          },
          "execution_count": 158,
          "metadata": {},
          "output_type": "execute_result"
        }
      ],
      "source": [
        "s5"
      ]
    },
    {
      "cell_type": "code",
      "execution_count": null,
      "id": "b89b57f5-b5a4-4bd1-9ac6-a4569a84f966",
      "metadata": {
        "id": "b89b57f5-b5a4-4bd1-9ac6-a4569a84f966",
        "outputId": "1bd84512-6890-40cc-8506-db72eb88e6b0"
      },
      "outputs": [
        {
          "ename": "TypeError",
          "evalue": "'set' object is not subscriptable",
          "output_type": "error",
          "traceback": [
            "\u001b[0;31m---------------------------------------------------------------------------\u001b[0m",
            "\u001b[0;31mTypeError\u001b[0m                                 Traceback (most recent call last)",
            "Cell \u001b[0;32mIn[159], line 1\u001b[0m\n\u001b[0;32m----> 1\u001b[0m \u001b[43ms5\u001b[49m\u001b[43m[\u001b[49m\u001b[38;5;241;43m0\u001b[39;49m\u001b[43m]\u001b[49m\n",
            "\u001b[0;31mTypeError\u001b[0m: 'set' object is not subscriptable"
          ]
        }
      ],
      "source": [
        "s5[0]"
      ]
    },
    {
      "cell_type": "code",
      "execution_count": null,
      "id": "59fa6206-1202-440b-938e-3cfd2c422838",
      "metadata": {
        "id": "59fa6206-1202-440b-938e-3cfd2c422838",
        "outputId": "a6b4b10c-a2c9-411e-a4b4-ddeb86c1367e"
      },
      "outputs": [
        {
          "ename": "TypeError",
          "evalue": "'set' object is not subscriptable",
          "output_type": "error",
          "traceback": [
            "\u001b[0;31m---------------------------------------------------------------------------\u001b[0m",
            "\u001b[0;31mTypeError\u001b[0m                                 Traceback (most recent call last)",
            "Cell \u001b[0;32mIn[160], line 1\u001b[0m\n\u001b[0;32m----> 1\u001b[0m \u001b[43ms5\u001b[49m\u001b[43m[\u001b[49m\u001b[43m:\u001b[49m\u001b[43m:\u001b[49m\u001b[38;5;241;43m-\u001b[39;49m\u001b[38;5;241;43m1\u001b[39;49m\u001b[43m]\u001b[49m\n",
            "\u001b[0;31mTypeError\u001b[0m: 'set' object is not subscriptable"
          ]
        }
      ],
      "source": [
        "s5[::-1]"
      ]
    },
    {
      "cell_type": "code",
      "execution_count": null,
      "id": "59c80f9e-8ab2-4084-83b3-28865571356f",
      "metadata": {
        "id": "59c80f9e-8ab2-4084-83b3-28865571356f",
        "outputId": "8116dedf-5fca-43fe-9f08-7db8c915b61f"
      },
      "outputs": [
        {
          "data": {
            "text/plain": [
              "{12, 2, 23, 234, 342, 45, 456, 567, 789, 'abc'}"
            ]
          },
          "execution_count": 161,
          "metadata": {},
          "output_type": "execute_result"
        }
      ],
      "source": [
        "s5"
      ]
    },
    {
      "cell_type": "code",
      "execution_count": null,
      "id": "aa3a3afa-5283-491c-a054-bc89404846c5",
      "metadata": {
        "id": "aa3a3afa-5283-491c-a054-bc89404846c5"
      },
      "outputs": [],
      "source": [
        "s5.add(4)"
      ]
    },
    {
      "cell_type": "code",
      "execution_count": null,
      "id": "c37c9b7d-25fe-4d04-88ae-400d294a2211",
      "metadata": {
        "id": "c37c9b7d-25fe-4d04-88ae-400d294a2211",
        "outputId": "0550d69b-54fc-4be6-f40f-9c70f458345c"
      },
      "outputs": [
        {
          "data": {
            "text/plain": [
              "{12, 2, 23, 234, 342, 4, 45, 456, 567, 789, 'abc'}"
            ]
          },
          "execution_count": 163,
          "metadata": {},
          "output_type": "execute_result"
        }
      ],
      "source": [
        "s5"
      ]
    },
    {
      "cell_type": "code",
      "execution_count": null,
      "id": "f2e0ee43-4fa2-47ba-a348-6537c76b50e7",
      "metadata": {
        "id": "f2e0ee43-4fa2-47ba-a348-6537c76b50e7"
      },
      "outputs": [],
      "source": [
        "s5.remove(2)"
      ]
    },
    {
      "cell_type": "code",
      "execution_count": null,
      "id": "efa0e33a-4538-4ea2-b26b-5747c45fa462",
      "metadata": {
        "id": "efa0e33a-4538-4ea2-b26b-5747c45fa462",
        "outputId": "b0befb8f-989a-4e51-9ac9-a31c44c251b2"
      },
      "outputs": [
        {
          "data": {
            "text/plain": [
              "{12, 23, 234, 342, 4, 45, 456, 567, 789, 'abc'}"
            ]
          },
          "execution_count": 165,
          "metadata": {},
          "output_type": "execute_result"
        }
      ],
      "source": [
        "s5"
      ]
    },
    {
      "cell_type": "code",
      "execution_count": null,
      "id": "d3080149-aeea-45df-8377-2452bfc35f7c",
      "metadata": {
        "id": "d3080149-aeea-45df-8377-2452bfc35f7c",
        "outputId": "f03c076c-61a1-4dbe-b9ff-0229411f1964"
      },
      "outputs": [
        {
          "data": {
            "text/plain": [
              "[23424, 'pwskills', 'kumar', 'data science']"
            ]
          },
          "execution_count": 166,
          "metadata": {},
          "output_type": "execute_result"
        }
      ],
      "source": [
        "l4 "
      ]
    },
    {
      "cell_type": "code",
      "execution_count": null,
      "id": "891f437c-c7ef-4c83-bff4-4c2decbed90f",
      "metadata": {
        "id": "891f437c-c7ef-4c83-bff4-4c2decbed90f",
        "outputId": "93f67bfb-d9bf-4227-fcb8-353fce34355e"
      },
      "outputs": [
        {
          "data": {
            "text/plain": [
              "[30, 4, 5, 6]"
            ]
          },
          "execution_count": 167,
          "metadata": {},
          "output_type": "execute_result"
        }
      ],
      "source": [
        "l5"
      ]
    },
    {
      "cell_type": "code",
      "execution_count": null,
      "id": "0a177eac-8562-4631-88e6-eeed99c29d4b",
      "metadata": {
        "id": "0a177eac-8562-4631-88e6-eeed99c29d4b"
      },
      "outputs": [],
      "source": [
        "l5.append(l4)"
      ]
    },
    {
      "cell_type": "code",
      "execution_count": null,
      "id": "6d785533-8f86-4521-abf5-0d5ce4e89858",
      "metadata": {
        "id": "6d785533-8f86-4521-abf5-0d5ce4e89858",
        "outputId": "a3296976-724a-4d17-9f55-d28721778b8d"
      },
      "outputs": [
        {
          "ename": "TypeError",
          "evalue": "can only concatenate list (not \"str\") to list",
          "output_type": "error",
          "traceback": [
            "\u001b[0;31m---------------------------------------------------------------------------\u001b[0m",
            "\u001b[0;31mTypeError\u001b[0m                                 Traceback (most recent call last)",
            "Cell \u001b[0;32mIn[169], line 1\u001b[0m\n\u001b[0;32m----> 1\u001b[0m \u001b[43ml4\u001b[49m\u001b[43m \u001b[49m\u001b[38;5;241;43m+\u001b[39;49m\u001b[43m \u001b[49m\u001b[38;5;124;43m\"\u001b[39;49m\u001b[38;5;124;43msudh\u001b[39;49m\u001b[38;5;124;43m\"\u001b[39;49m\n",
            "\u001b[0;31mTypeError\u001b[0m: can only concatenate list (not \"str\") to list"
          ]
        }
      ],
      "source": [
        "l4 + \"sudh\""
      ]
    },
    {
      "cell_type": "code",
      "execution_count": null,
      "id": "f3ea4057-333a-4bf3-a7b2-97046db19e20",
      "metadata": {
        "id": "f3ea4057-333a-4bf3-a7b2-97046db19e20",
        "outputId": "63fc2b61-2603-4747-9ed0-dc11610e805c"
      },
      "outputs": [
        {
          "data": {
            "text/plain": [
              "[30, 4, 5, 6, [23424, 'pwskills', 'kumar', 'data science']]"
            ]
          },
          "execution_count": 171,
          "metadata": {},
          "output_type": "execute_result"
        }
      ],
      "source": [
        "l5"
      ]
    },
    {
      "cell_type": "code",
      "execution_count": null,
      "id": "622e7fc1-a28b-4287-a311-47533a482c7f",
      "metadata": {
        "id": "622e7fc1-a28b-4287-a311-47533a482c7f"
      },
      "outputs": [],
      "source": [
        "s = {1,2,3,1,2,3,4,5,5}"
      ]
    },
    {
      "cell_type": "code",
      "execution_count": null,
      "id": "0af687f4-db6d-4eee-90fe-2322a2c83778",
      "metadata": {
        "id": "0af687f4-db6d-4eee-90fe-2322a2c83778",
        "outputId": "59d01b25-ae7e-41bb-86a6-a385d4f9a254"
      },
      "outputs": [
        {
          "data": {
            "text/plain": [
              "{1, 2, 3, 4, 5}"
            ]
          },
          "execution_count": 173,
          "metadata": {},
          "output_type": "execute_result"
        }
      ],
      "source": [
        "s"
      ]
    },
    {
      "cell_type": "code",
      "execution_count": null,
      "id": "72e128c0-af36-4e3c-9ea1-0df58a398abd",
      "metadata": {
        "id": "72e128c0-af36-4e3c-9ea1-0df58a398abd"
      },
      "outputs": [],
      "source": [
        "s1 ={34,45665,45645,65,664,23,1,1,23,43,4}"
      ]
    },
    {
      "cell_type": "code",
      "execution_count": null,
      "id": "7b4476a3-84ee-4267-b113-baf4ea667aa7",
      "metadata": {
        "id": "7b4476a3-84ee-4267-b113-baf4ea667aa7",
        "outputId": "d2707bcb-ccac-48cf-eb58-05219ddf0212"
      },
      "outputs": [
        {
          "data": {
            "text/plain": [
              "{1, 4, 23, 34, 43, 65, 664, 45645, 45665}"
            ]
          },
          "execution_count": 176,
          "metadata": {},
          "output_type": "execute_result"
        }
      ],
      "source": [
        "s1"
      ]
    },
    {
      "cell_type": "code",
      "execution_count": null,
      "id": "e2e072a7-a304-4287-88ba-2e0b7e5a0faf",
      "metadata": {
        "id": "e2e072a7-a304-4287-88ba-2e0b7e5a0faf"
      },
      "outputs": [],
      "source": [
        "l = [3,4,5,6,6,6]"
      ]
    },
    {
      "cell_type": "code",
      "execution_count": null,
      "id": "b6522fef-7466-42ac-8b97-04e8da3840e8",
      "metadata": {
        "id": "b6522fef-7466-42ac-8b97-04e8da3840e8"
      },
      "outputs": [],
      "source": [
        "l.insert(-1 , \"jay\")"
      ]
    },
    {
      "cell_type": "code",
      "execution_count": null,
      "id": "c2fc1fe8-a468-471a-8b09-dadaee1f1f1b",
      "metadata": {
        "id": "c2fc1fe8-a468-471a-8b09-dadaee1f1f1b",
        "outputId": "8ae3c7ab-433a-4023-89a7-082d6cb0bfa6"
      },
      "outputs": [
        {
          "data": {
            "text/plain": [
              "[3, 4, 'jay', 5, 6, 6, 'jay', 6]"
            ]
          },
          "execution_count": 182,
          "metadata": {},
          "output_type": "execute_result"
        }
      ],
      "source": [
        "l"
      ]
    },
    {
      "cell_type": "code",
      "execution_count": null,
      "id": "bddcaa92-b367-4061-aeae-053652048bcf",
      "metadata": {
        "id": "bddcaa92-b367-4061-aeae-053652048bcf"
      },
      "outputs": [],
      "source": [
        "l3=[\"q\",'a','y','z','3','4']\n"
      ]
    },
    {
      "cell_type": "code",
      "execution_count": null,
      "id": "19683040-8508-495e-b6a1-6895c0ca2af2",
      "metadata": {
        "id": "19683040-8508-495e-b6a1-6895c0ca2af2"
      },
      "outputs": [],
      "source": [
        "l3.sort()"
      ]
    },
    {
      "cell_type": "code",
      "execution_count": null,
      "id": "7c0abf0a-a540-459b-a9e9-c79339590655",
      "metadata": {
        "id": "7c0abf0a-a540-459b-a9e9-c79339590655",
        "outputId": "d1e7aacc-c601-4e97-d458-88a0657c13d7"
      },
      "outputs": [
        {
          "data": {
            "text/plain": [
              "['3', '4', 'a', 'q', 'y', 'z']"
            ]
          },
          "execution_count": 185,
          "metadata": {},
          "output_type": "execute_result"
        }
      ],
      "source": [
        "l3"
      ]
    },
    {
      "cell_type": "code",
      "execution_count": null,
      "id": "9041d730-09bf-4462-a3c9-9c4a8e52bf64",
      "metadata": {
        "id": "9041d730-09bf-4462-a3c9-9c4a8e52bf64",
        "outputId": "c4b2e422-d010-4603-85c2-4f3803a89655"
      },
      "outputs": [
        {
          "data": {
            "text/plain": [
              "[3, 4, 'jay', 5, 6, 6, 'jay', 6]"
            ]
          },
          "execution_count": 186,
          "metadata": {},
          "output_type": "execute_result"
        }
      ],
      "source": [
        "s = \"sudh\"\n",
        "l"
      ]
    },
    {
      "cell_type": "code",
      "execution_count": null,
      "id": "44ea7565-32de-44a6-a027-06e6a70b4428",
      "metadata": {
        "id": "44ea7565-32de-44a6-a027-06e6a70b4428"
      },
      "outputs": [],
      "source": [
        "l.insert(3,list(s))"
      ]
    },
    {
      "cell_type": "code",
      "execution_count": null,
      "id": "8a9699a0-6510-47e4-8a44-6cd2a6bedf0f",
      "metadata": {
        "id": "8a9699a0-6510-47e4-8a44-6cd2a6bedf0f",
        "outputId": "ca550306-40cc-47ca-e135-c7e009637ee6"
      },
      "outputs": [
        {
          "data": {
            "text/plain": [
              "[3, 4, 'jay', ['s', 'u', 'd', 'h'], 5, 6, 6, 'jay', 6]"
            ]
          },
          "execution_count": 189,
          "metadata": {},
          "output_type": "execute_result"
        }
      ],
      "source": [
        "l"
      ]
    },
    {
      "cell_type": "code",
      "execution_count": null,
      "id": "cc356900-b54d-406e-bf4a-d3841cdf9f31",
      "metadata": {
        "id": "cc356900-b54d-406e-bf4a-d3841cdf9f31"
      },
      "outputs": [],
      "source": [
        "l = [3,4,5,55, [1,3,4,5,6]]"
      ]
    },
    {
      "cell_type": "code",
      "execution_count": null,
      "id": "d3833e59-0cee-4ed6-88ae-c34c71d3b2e3",
      "metadata": {
        "id": "d3833e59-0cee-4ed6-88ae-c34c71d3b2e3",
        "outputId": "cb99e224-9c6b-4f78-d0c9-b68fe6e26e65"
      },
      "outputs": [
        {
          "data": {
            "text/plain": [
              "[23424, 'pwskills', 'kumar', 'data science']"
            ]
          },
          "execution_count": 191,
          "metadata": {},
          "output_type": "execute_result"
        }
      ],
      "source": [
        "l4"
      ]
    },
    {
      "cell_type": "code",
      "execution_count": null,
      "id": "389c6dcd-b4df-494f-a4ac-2b8da7df41d9",
      "metadata": {
        "id": "389c6dcd-b4df-494f-a4ac-2b8da7df41d9"
      },
      "outputs": [],
      "source": [
        "l4.extend(l)"
      ]
    },
    {
      "cell_type": "code",
      "execution_count": null,
      "id": "b4255ba6-a16d-46e8-890f-82dff97fd1a5",
      "metadata": {
        "id": "b4255ba6-a16d-46e8-890f-82dff97fd1a5",
        "outputId": "024c7fd8-2c8b-4349-af67-4f1496a72fd7"
      },
      "outputs": [
        {
          "data": {
            "text/plain": [
              "[23424, 'pwskills', 'kumar', 'data science', 3, 4, 5, 55, [1, 3, 4, 5, 6]]"
            ]
          },
          "execution_count": 193,
          "metadata": {},
          "output_type": "execute_result"
        }
      ],
      "source": [
        "l4"
      ]
    },
    {
      "cell_type": "code",
      "execution_count": null,
      "id": "16b2b93d-cee8-4a0a-8ae2-d3111f3f5ddd",
      "metadata": {
        "id": "16b2b93d-cee8-4a0a-8ae2-d3111f3f5ddd",
        "outputId": "7c251a0d-ae01-4152-c679-6f54ba945aa7"
      },
      "outputs": [
        {
          "data": {
            "text/plain": [
              "['kumar', 'data science', 3]"
            ]
          },
          "execution_count": 195,
          "metadata": {},
          "output_type": "execute_result"
        }
      ],
      "source": [
        "l4[2:5]"
      ]
    },
    {
      "cell_type": "code",
      "execution_count": null,
      "id": "d2d07e26-5602-4575-94e8-b05eec3271d7",
      "metadata": {
        "id": "d2d07e26-5602-4575-94e8-b05eec3271d7"
      },
      "outputs": [],
      "source": [
        "m = \"pwskills\""
      ]
    },
    {
      "cell_type": "code",
      "execution_count": null,
      "id": "37922311-d81e-4411-bae3-b235fdc8a5f2",
      "metadata": {
        "id": "37922311-d81e-4411-bae3-b235fdc8a5f2",
        "outputId": "c1415846-0a56-47e9-875b-4460ec47ad71"
      },
      "outputs": [
        {
          "data": {
            "text/plain": [
              "'p'"
            ]
          },
          "execution_count": 197,
          "metadata": {},
          "output_type": "execute_result"
        }
      ],
      "source": [
        "m[::9999]"
      ]
    },
    {
      "cell_type": "code",
      "execution_count": null,
      "id": "c7d58b6d-93bc-440f-8526-f27892b172f3",
      "metadata": {
        "id": "c7d58b6d-93bc-440f-8526-f27892b172f3",
        "outputId": "7a235b72-6115-468d-c4a1-8ee1bf307af0"
      },
      "outputs": [
        {
          "data": {
            "text/plain": [
              "[3, 4, 5, 55, [1, 3, 4, 5, 6]]"
            ]
          },
          "execution_count": 198,
          "metadata": {},
          "output_type": "execute_result"
        }
      ],
      "source": [
        "l"
      ]
    },
    {
      "cell_type": "code",
      "execution_count": null,
      "id": "480443ea-1b16-45c1-9c9a-777f509490e7",
      "metadata": {
        "id": "480443ea-1b16-45c1-9c9a-777f509490e7"
      },
      "outputs": [],
      "source": [
        "l.append(324)"
      ]
    },
    {
      "cell_type": "code",
      "execution_count": null,
      "id": "8bb8445a-8b9a-4fac-b0c5-0ebd1b847c69",
      "metadata": {
        "id": "8bb8445a-8b9a-4fac-b0c5-0ebd1b847c69",
        "outputId": "be1c8e79-df21-4b8d-9142-d17094ed9b7b"
      },
      "outputs": [
        {
          "data": {
            "text/plain": [
              "[3, 4, 5, 55, [1, 3, 4, 5, 6], 324]"
            ]
          },
          "execution_count": 200,
          "metadata": {},
          "output_type": "execute_result"
        }
      ],
      "source": [
        "l"
      ]
    },
    {
      "cell_type": "code",
      "execution_count": null,
      "id": "1ceee627-ab42-4a89-97ac-ded09a8e536d",
      "metadata": {
        "id": "1ceee627-ab42-4a89-97ac-ded09a8e536d"
      },
      "outputs": [],
      "source": [
        "l.extend(\"sudh\")"
      ]
    },
    {
      "cell_type": "code",
      "execution_count": null,
      "id": "24fb78a4-7f65-40ec-9191-5f88fa69f678",
      "metadata": {
        "id": "24fb78a4-7f65-40ec-9191-5f88fa69f678",
        "outputId": "07262b84-88bd-43b3-f465-cf737acb4da4"
      },
      "outputs": [
        {
          "data": {
            "text/plain": [
              "[3, 4, 5, 55, [1, 3, 4, 5, 6], 324, 's', 'u', 'd', 'h']"
            ]
          },
          "execution_count": 202,
          "metadata": {},
          "output_type": "execute_result"
        }
      ],
      "source": [
        "l"
      ]
    },
    {
      "cell_type": "code",
      "execution_count": null,
      "id": "d4dbe97d-6914-4926-a8d8-6a38211a9d4e",
      "metadata": {
        "id": "d4dbe97d-6914-4926-a8d8-6a38211a9d4e"
      },
      "outputs": [],
      "source": []
    }
  ],
  "metadata": {
    "kernelspec": {
      "display_name": "Python 3 (ipykernel)",
      "language": "python",
      "name": "python3"
    },
    "language_info": {
      "codemirror_mode": {
        "name": "ipython",
        "version": 3
      },
      "file_extension": ".py",
      "mimetype": "text/x-python",
      "name": "python",
      "nbconvert_exporter": "python",
      "pygments_lexer": "ipython3",
      "version": "3.10.8"
    },
    "colab": {
      "provenance": []
    }
  },
  "nbformat": 4,
  "nbformat_minor": 5
}