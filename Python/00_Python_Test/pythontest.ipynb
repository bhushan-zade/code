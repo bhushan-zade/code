{
 "cells": [
  {
   "cell_type": "markdown",
   "metadata": {},
   "source": [
    "Q1. Write a Python program that defines a function called \"add_numbers\" that takes two arguments (i.e., numbers) and returns their sum. Within the function, add the two numbers together and return the result using the return statement. Call the function with the values 5 and 6, and print out the returned result. This will result in the addition of 5 and 6, with the output of the program being the sum of these two numbers."
   ]
  },
  {
   "cell_type": "code",
   "execution_count": 83,
   "metadata": {},
   "outputs": [
    {
     "name": "stdout",
     "output_type": "stream",
     "text": [
      "the sum of 5 and 6 is  11\n"
     ]
    }
   ],
   "source": [
    "def add_numbers(a,b):\n",
    "    sum = a+b\n",
    "    return sum\n",
    "\n",
    "\n",
    "print(\"the sum of 5 and 6 is \" ,add_numbers(5,6))"
   ]
  },
  {
   "cell_type": "markdown",
   "metadata": {},
   "source": [
    "Q2. Write a Python program that calculates the square root of a given number using a built-in function. Specifically, the program should take an integer or float input from the user, calculate its square root using the 'sqrt()' function from the 'math' module, and print out the result to the user. As an example, calculate the square root of the number 625 using this program, which should output the value of 25."
   ]
  },
  {
   "cell_type": "code",
   "execution_count": 84,
   "metadata": {},
   "outputs": [
    {
     "name": "stdout",
     "output_type": "stream",
     "text": [
      "1.0\n"
     ]
    }
   ],
   "source": [
    "import math\n",
    "number = float (input(\"Enter The Number -> \"))\n",
    "print(math.sqrt(number))"
   ]
  },
  {
   "cell_type": "markdown",
   "metadata": {},
   "source": [
    "Q3.Write a program that prints all prime numbers between 0 to 50."
   ]
  },
  {
   "cell_type": "code",
   "execution_count": 1,
   "metadata": {},
   "outputs": [
    {
     "name": "stdout",
     "output_type": "stream",
     "text": [
      "2\n",
      "3\n",
      "5\n",
      "7\n",
      "11\n",
      "13\n",
      "17\n",
      "19\n",
      "23\n",
      "29\n",
      "31\n",
      "37\n",
      "41\n",
      "43\n",
      "47\n"
     ]
    }
   ],
   "source": [
    "for number in range(2, 51):\n",
    "    is_prime = True\n",
    "    for i in range(2, number):\n",
    "        if number % i == 0:\n",
    "            is_prime = False\n",
    "            break\n",
    "    if is_prime:\n",
    "        print(number)"
   ]
  },
  {
   "cell_type": "markdown",
   "metadata": {},
   "source": [
    "Q4.How can we swap the values of three variables (let's say a, b, and c) without using a fourth variable? For example, if we have a=5, b=8, and c=9, how can we obtain a=9, b=5, and c=8? The challenge is to perform this operation without using an additional variable to store any of the values during the swapping process."
   ]
  },
  {
   "cell_type": "code",
   "execution_count": null,
   "metadata": {},
   "outputs": [],
   "source": [
    "a = 5\n",
    "b = 8\n",
    "c = 9\n",
    "\n",
    "a, b, c = c, a, b\n",
    "\n",
    "print(\"a =\", a)\n",
    "print(\"b =\", b)\n",
    "print(\"c =\", c)\n",
    "    "
   ]
  },
  {
   "cell_type": "markdown",
   "metadata": {},
   "source": [
    "Q5. Can you write a program that determines the nature of a given number (in this case, 87) as being positive, negative, or zero? The program should be designed to take the number as input and perform the necessary calculations to determine if the number is positive (i.e., greater than zero), negative (i.e., less than zero), or zero (i.e., equal to zero). The output of the program should indicate which of these three categories the given number falls into."
   ]
  },
  {
   "cell_type": "code",
   "execution_count": null,
   "metadata": {},
   "outputs": [
    {
     "name": "stdout",
     "output_type": "stream",
     "text": [
      "Given number is  less than Zero that NEGSTIVE\n"
     ]
    }
   ],
   "source": [
    "def nature_num(a):\n",
    "    if(a== 0):\n",
    "        print(\"The given number {} is ZERO \".format(a))\n",
    "    elif(a>0):\n",
    "        print(\"The given number is greeter than zero that is POSITIVE \")\n",
    "    else:\n",
    "        print(\"Given number is  less than Zero that NEGSTIVE\")\n",
    "\n",
    "number= int(input(\"Enter The Number \"))\n",
    "nature_num(number)"
   ]
  },
  {
   "cell_type": "markdown",
   "metadata": {},
   "source": [
    "Q6. How can you create a program that determines whether a given number (in this case, 98) is even or odd? The program should be designed to take the number as input and perform the necessary calculations to determine whether it is divisible by two. If the number is divisible by two without leaving a remainder, it is an even number, and if there is a remainder, it is an odd number. The output of the program should indicate whether the given number is even or odd."
   ]
  },
  {
   "cell_type": "code",
   "execution_count": null,
   "metadata": {},
   "outputs": [
    {
     "name": "stdout",
     "output_type": "stream",
     "text": [
      "The number is even \n"
     ]
    }
   ],
   "source": [
    "def evenodd(a):\n",
    "    if(a %2 == 0):\n",
    "        print(\"The number is even \")\n",
    "    else:\n",
    "        print(\"The number is odd \")\n",
    "\n",
    "\n",
    "evenodd(100000)"
   ]
  },
  {
   "cell_type": "markdown",
   "metadata": {},
   "source": [
    "Q7.Write a program for sum of digits.The digits are 76543 and the output should be 25."
   ]
  },
  {
   "cell_type": "code",
   "execution_count": null,
   "metadata": {},
   "outputs": [
    {
     "name": "stdout",
     "output_type": "stream",
     "text": [
      "4\n"
     ]
    }
   ],
   "source": [
    "def sum_degits(a):\n",
    "    sum = 0\n",
    "    while(a != 0 ):\n",
    "        last_digit = int(a%10)\n",
    "        sum = sum + last_digit\n",
    "        a = a/10\n",
    "    return sum \n",
    "\n",
    "\n",
    "print(sum_degits(13))"
   ]
  },
  {
   "cell_type": "markdown",
   "metadata": {},
   "source": [
    "Q8.Write a program for reversing the given number 5436 and the output should be 6345."
   ]
  },
  {
   "cell_type": "code",
   "execution_count": 11,
   "metadata": {},
   "outputs": [
    {
     "name": "stdout",
     "output_type": "stream",
     "text": [
      "6345\n",
      "The reversed number is: 6345\n"
     ]
    }
   ],
   "source": [
    "def reversed(a):\n",
    "    # num = a[len(a)-1:0]\n",
    "    rev =0 \n",
    "    while(a > 0):\n",
    "        last_num = a%10\n",
    "        rev = (rev*10) +last_num\n",
    "        a = a//10\n",
    "    return(rev)\n",
    "print(reversed(5436))\n",
    "\n",
    "\n",
    "num = 5436\n",
    "reverse = 0\n",
    "\n",
    "while num > 0:\n",
    "    # Extract the rightmost digit of the number\n",
    "    digit = num % 10\n",
    "\n",
    "    # Add the extracted digit to the reverse number\n",
    "    reverse = (reverse * 10) + digit\n",
    "\n",
    "    # Remove the rightmost digit from the number\n",
    "    num //= 10\n",
    "\n",
    "print(\"The reversed number is:\", reverse)\n"
   ]
  },
  {
   "cell_type": "markdown",
   "metadata": {},
   "source": [
    "Q9.Write a program to check if a given number 371 is an Armstrong number?"
   ]
  },
  {
   "cell_type": "code",
   "execution_count": 13,
   "metadata": {},
   "outputs": [
    {
     "name": "stdout",
     "output_type": "stream",
     "text": [
      "The given Number is Armstrong\n"
     ]
    }
   ],
   "source": [
    "\n",
    "# Function to check if a number is an Armstrong number\n",
    "def is_armstrong(num):\n",
    "    # Get the number of digits in the given number\n",
    "    num_str = str(num)\n",
    "    num_digits = len(num_str)\n",
    "\n",
    "    # Calculate the sum of the cubes of each digit\n",
    "    sum_of_cubes = sum([int(digit)**num_digits for digit in num_str])\n",
    "\n",
    "    # Check if the sum of the cubes is equal to the original number\n",
    "    if sum_of_cubes == num:\n",
    "        return True\n",
    "    else:\n",
    "        return False\n",
    "\n",
    "# Test the function with the number 371\n",
    "num = 371\n",
    "if is_armstrong(num):\n",
    "    print(num, \"is an Armstrong number\")\n",
    "else:\n",
    "    print(num, \"is not an Armstrong number\")"
   ]
  },
  {
   "cell_type": "markdown",
   "metadata": {},
   "source": [
    "Q10.Write a program the given year is 1996, a leap year."
   ]
  },
  {
   "cell_type": "code",
   "execution_count": null,
   "metadata": {},
   "outputs": [
    {
     "name": "stdout",
     "output_type": "stream",
     "text": [
      "The Given year is Not a leaf Year\n"
     ]
    }
   ],
   "source": [
    "def leaf_year(year):\n",
    "    if(year%400 ==0):\n",
    "        print(\"the given year is leaf\")\n",
    "    elif(year %4 == 0 and year %100 != 0):\n",
    "        print(\"the given year is leaf\")\n",
    "    else:\n",
    "        print(\"The Given year is Not a leaf Year\")\n",
    "\n",
    "\n",
    "leaf_year(2021)"
   ]
  },
  {
   "cell_type": "markdown",
   "metadata": {},
   "source": [
    "Q11. Create a list in python using the followings: 2,3,4,5,6,7 with variable ‘a’ Add ‘mango to the above list Also add banana, grapes & orange in the list insert apple in the 5th position of a variable ‘a"
   ]
  },
  {
   "cell_type": "code",
   "execution_count": null,
   "metadata": {},
   "outputs": [
    {
     "name": "stdout",
     "output_type": "stream",
     "text": [
      "[2, 3, 4, 5, 6, 'apple', 'mango']\n"
     ]
    }
   ],
   "source": [
    "li = [2,3,4,5,6,7]\n",
    "a= \"mango\"\n",
    "li.append(a)\n",
    "li[5] = \"banana\"\n",
    "li[5] = \"grapes\"\n",
    "li[5] = \"oranges\"\n",
    "li[5] = \"apple\"\n",
    "\n",
    "print(li)\n",
    "\n",
    "\n",
    "\n",
    "a = [2, 3, 4, 5, 6, 7]   # create a list with variable a\n",
    "a.append('mango')       # add 'mango' to the end of the list\n",
    "a.extend(['banana', 'grapes', 'orange'])  # add multiple items to the end of the list\n",
    "a.insert(4, 'apple')    # insert 'apple' at the 5th position (index 4) of the list\n",
    "a.pop()                 # remove and return the last item from the list\n",
    "\n",
    "print(a)                # print the modified list"
   ]
  },
  {
   "cell_type": "markdown",
   "metadata": {},
   "source": [
    "Q12. Remove last item from the list  L = [1,2,3,4,5,6,7] Using the above list slice from 1:4"
   ]
  },
  {
   "cell_type": "code",
   "execution_count": 14,
   "metadata": {},
   "outputs": [
    {
     "name": "stdout",
     "output_type": "stream",
     "text": [
      "[2, 3, 4]\n",
      "[2, 3, 4]\n"
     ]
    }
   ],
   "source": [
    "L = [1,2,3,4,5,6,7] \n",
    "Sliced_list = L[1:4]\n",
    "print(Sliced_list)\n",
    "\n",
    "L = [1, 2, 3, 4, 5, 6, 7]   # create a list L\n",
    "sliced_L = L[1:4]          # slice the list from index 1 to index 3 (excluding index 4)\n",
    "\n",
    "print(sliced_L)            # print the sliced list"
   ]
  },
  {
   "cell_type": "markdown",
   "metadata": {},
   "source": [
    "Q13. Reverse the order of given string L = [4,5,6,8,3] Without using reverse() function."
   ]
  },
  {
   "cell_type": "code",
   "execution_count": 16,
   "metadata": {},
   "outputs": [
    {
     "name": "stdout",
     "output_type": "stream",
     "text": [
      "[3, 8, 6, 5, 4]\n",
      "[3, 8, 6, 5, 4]\n"
     ]
    }
   ],
   "source": [
    "L = [4,5,6,8,3]\n",
    "rev = L[::-1]\n",
    "print(rev)\n",
    "\n",
    "L = [4, 5, 6, 8, 3]   # create a list L\n",
    "L.reverse()           # reverse the order of the list using the reverse() method\n",
    "\n",
    "print(L)              # print the reversed list"
   ]
  },
  {
   "cell_type": "markdown",
   "metadata": {},
   "source": [
    "Q14. Use list comprehension to square the given list L=[2,4,7,3,6,8]"
   ]
  },
  {
   "cell_type": "code",
   "execution_count": 17,
   "metadata": {},
   "outputs": [
    {
     "name": "stdout",
     "output_type": "stream",
     "text": [
      "[4, 16, 49, 9, 36, 64]\n"
     ]
    }
   ],
   "source": [
    "L=[2,4,7,3,6,8]\n",
    "sq_list = [x**2 for x in L]\n",
    "print(sq_list)"
   ]
  },
  {
   "cell_type": "markdown",
   "metadata": {},
   "source": [
    "Q15. Create a function that takes in a tuple of integers and returns the sum of the integers. Test the function with a tuple of your choice."
   ]
  },
  {
   "cell_type": "code",
   "execution_count": 19,
   "metadata": {},
   "outputs": [
    {
     "name": "stdout",
     "output_type": "stream",
     "text": [
      "25\n"
     ]
    }
   ],
   "source": [
    "def sum_tuple(t):\n",
    "    return sum(t)\n",
    "\n",
    "t = (1,2,4,5,6,7)\n",
    "print(sum_tuple(t))"
   ]
  },
  {
   "cell_type": "markdown",
   "metadata": {},
   "source": [
    "Q16. Create two sets of your favorite fruits, and use the union() method to combine them into a single set. Print the resulting set to the console."
   ]
  },
  {
   "cell_type": "code",
   "execution_count": 21,
   "metadata": {},
   "outputs": [
    {
     "name": "stdout",
     "output_type": "stream",
     "text": [
      "{'mango', 'grapes', 'woodapple', 'jackfrout', 'apple'}\n",
      "{'mango', 'grapes', 'woodapple', 'jackfrout', 'apple'}\n"
     ]
    }
   ],
   "source": [
    "fruits1 = {\"apple\", \"mango\", \"grapes\"}\n",
    "fruits2 = {\"woodapple\", \"jackfrout\", \"apple\"}\n",
    "\n",
    "# print()\n",
    "print(fruits1.union( fruits2))\n",
    "combine_set = fruits1.union(fruits2)\n",
    "print(combine_set)"
   ]
  },
  {
   "cell_type": "markdown",
   "metadata": {},
   "source": [
    "Q17. Create a set of random words, and use the add() method to add a new word to the set. Print the resulting set to the console."
   ]
  },
  {
   "cell_type": "code",
   "execution_count": null,
   "metadata": {},
   "outputs": [
    {
     "name": "stdout",
     "output_type": "stream",
     "text": [
      "{'f', 'e', 'd'}\n"
     ]
    }
   ],
   "source": [
    "li = {'f' ,'d'}\n",
    "li.add('e')\n",
    "print(li)"
   ]
  },
  {
   "cell_type": "markdown",
   "metadata": {},
   "source": [
    "Q18. Create a set of your favorite animals, and use the remove() method to remove one animal from the set. Print the resulting set to the console."
   ]
  },
  {
   "cell_type": "code",
   "execution_count": null,
   "metadata": {},
   "outputs": [
    {
     "name": "stdout",
     "output_type": "stream",
     "text": [
      "{'loin ', 'dog', 'tiger'}\n"
     ]
    }
   ],
   "source": [
    "animals = {\"dog\", \"cat \", \"tiger\", \"loin \"}\n",
    "animals.remove(\"cat \")\n",
    "print(animals)"
   ]
  },
  {
   "cell_type": "markdown",
   "metadata": {},
   "source": [
    "Q19. favorite_books = {\"1984\", \"To Kill a Mockingbird\", \"Pride and Prejudice\"} favorite_movies = [\"The Shawshank Redemption\", \"The Godfather\", \"The Dark Knight\"] Use the zip() function to combine the book set and movie list into a list of tuples representing book/ movie pairs. Print the resulting list."
   ]
  },
  {
   "cell_type": "code",
   "execution_count": 22,
   "metadata": {},
   "outputs": [
    {
     "name": "stdout",
     "output_type": "stream",
     "text": [
      "[('1984', 'The Shawshank Redemption'), ('To Kill a Mockingbird', 'The Godfather'), ('Pride and Prejudice', 'The Dark Knight')]\n"
     ]
    }
   ],
   "source": [
    "favorite_books = {\"1984\", \"To Kill a Mockingbird\", \"Pride and Prejudice\"}\n",
    "favorite_movies = [\"The Shawshank Redemption\", \"The Godfather\", \"The Dark Knight\"]\n",
    "\n",
    "li =list( zip(favorite_books,favorite_movies))\n",
    "print(li)"
   ]
  },
  {
   "cell_type": "markdown",
   "metadata": {},
   "source": [
    "Q20. Write a Python program to find the difference between consecutive numbers in a list. Solutions: "
   ]
  },
  {
   "cell_type": "code",
   "execution_count": 24,
   "metadata": {},
   "outputs": [
    {
     "name": "stdout",
     "output_type": "stream",
     "text": [
      "[-1, -1, -1, -1, -1, -1]\n"
     ]
    }
   ],
   "source": [
    "def con_dif(l):\n",
    "    diff = []\n",
    "    for i in range(len(l)-1):\n",
    "        diff.append(l[i]-l[i+1])\n",
    "\n",
    "    return diff\n",
    "\n",
    "l =[1,2,3,4,5,6,7]\n",
    "print(con_dif(l))\n",
    "\n",
    "\n",
    "\n",
    "def consecutive_difference(lst):\n",
    "    diff_lst = []\n",
    "    for i in range(len(lst)-1):\n",
    "        diff_lst.append(abs(lst[i] - lst[i+1]))\n",
    "    return diff_lst\n",
    "\n",
    "# Example usage\n",
    "my_list = [3, 5, 2, 8, 1]\n",
    "diff_list = consecutive_difference(my_list)\n",
    "print(diff_list)\n",
    "\n",
    "#note:The consecutive_difference() function takes a list as input and returns a list of differences between consecutive numbers"
   ]
  },
  {
   "cell_type": "markdown",
   "metadata": {},
   "source": [
    "Q21. Create a dictionary called fruits with the following key-value pairs: \"apple\": 0.75 \"banana\": 1.25 \"orange\": 0.90 Then, print out the price of a banana"
   ]
  },
  {
   "cell_type": "code",
   "execution_count": null,
   "metadata": {},
   "outputs": [
    {
     "name": "stdout",
     "output_type": "stream",
     "text": [
      "1.25\n"
     ]
    }
   ],
   "source": [
    "mydic = {\n",
    "    \"apple\": 0.75,\n",
    "     \"banana\": 1.25,\n",
    "     \"orange\": 0.90 \n",
    "}\n",
    "print(mydic[\"banana\"])"
   ]
  },
  {
   "cell_type": "markdown",
   "metadata": {},
   "source": [
    "Q22. Create an empty dictionary called ages. Add the following key-value pairs to the dictionary: \"Alice\": 30 \"Bob\": 25\n",
    "\"Charlie\": 35 Then, print out the age of Charlie."
   ]
  },
  {
   "cell_type": "code",
   "execution_count": null,
   "metadata": {},
   "outputs": [
    {
     "name": "stdout",
     "output_type": "stream",
     "text": [
      "35\n"
     ]
    }
   ],
   "source": [
    "ages = {}\n",
    "\n",
    "ages[\"Alice\"] = 30\n",
    "ages[\"Bob\"] = 25\n",
    "ages[\"charlie\"] = 35\n",
    "\n",
    "print(ages[\"charlie\"])"
   ]
  },
  {
   "cell_type": "markdown",
   "metadata": {},
   "source": [
    "Q23. Write a function called word_count(text) that takes a string as input and returns a dictionary where Each key is a word in the text and its value is the number of times that word appears in the text. For for example, word_count(\"hello world hello\") should return {\"hello\": 2, \"world\": 1}."
   ]
  },
  {
   "cell_type": "code",
   "execution_count": 30,
   "metadata": {},
   "outputs": [
    {
     "name": "stdout",
     "output_type": "stream",
     "text": [
      "{'hello': 4, 'world': 1}\n"
     ]
    }
   ],
   "source": [
    "def word_count(text):\n",
    "    words = text.lower().split()\n",
    "    count = {}\n",
    "    for i in words:\n",
    "        if i in count :\n",
    "            count[i] += 1\n",
    "        else :\n",
    "            count[i] = 1\n",
    "    return count\n",
    "\n",
    "\n",
    "text = \"hello hello hello  world hello\"\n",
    "print(word_count(text))\n",
    "\n",
    "\n",
    "\n",
    "def word_count(text):\n",
    "    # Convert the input string to lowercase and split into words\n",
    "    words = text.lower().split()\n",
    "    # Initialize an empty dictionary\n",
    "    counts = {}\n",
    "    # Loop through the words and count the number of occurrences of each word\n",
    "    for word in words:\n",
    "        if word in counts:\n",
    "            counts[word] += 1\n",
    "        else:\n",
    "            counts[word] = 1\n",
    "    # Return the resulting dictionary\n",
    "    return counts\n",
    "\n",
    "# Example usage\n",
    "text = \"hello world hello\"\n",
    "counts = word_count(text)\n",
    "print(counts)"
   ]
  },
  {
   "cell_type": "markdown",
   "metadata": {},
   "source": [
    "Q24. Create a dictionary called phone_book with the following key-value pairs: \"Alice\": \"555-1234\" \"Bob\": \"555-5678\" \"Charlie\": \"555-9012\" Then, prompt the user to enter a name and print out the corresponding phone number. If the name is not in the phone book, print out a message saying that the name was not found"
   ]
  },
  {
   "cell_type": "code",
   "execution_count": 31,
   "metadata": {},
   "outputs": [
    {
     "name": "stdout",
     "output_type": "stream",
     "text": [
      "Name not found\n"
     ]
    }
   ],
   "source": [
    "\n",
    "phone_book = {\"Alice\": \"555-1234\" ,\n",
    "\"Bob\": \"555-5678\",\n",
    " \"Charlie\": \"555-9012\"}\n",
    "name = input(\"Enter the name \")\n",
    "\n",
    "try :\n",
    "\n",
    "    phone_book[name]\n",
    "except :\n",
    "    print(\"Name not found\")\n",
    "\n"
   ]
  },
  {
   "cell_type": "markdown",
   "metadata": {},
   "source": [
    "Q25. Write a program that prompts the user to enter a number between 1 and 10. If the number is less than 5, print out \"Too low!\", otherwise print out \"Too high!\"."
   ]
  },
  {
   "cell_type": "code",
   "execution_count": 95,
   "metadata": {},
   "outputs": [
    {
     "name": "stdout",
     "output_type": "stream",
     "text": [
      "Too high !!!\n"
     ]
    }
   ],
   "source": [
    "num = int (input(\"Enter the number bet 1 to 10 \"))\n",
    "if(num < 5):\n",
    "    print(\"Too loww !!\")\n",
    "else :\n",
    "    print(\"Too high !!!\")"
   ]
  },
  {
   "cell_type": "markdown",
   "metadata": {},
   "source": [
    "Q26. Write a program that prompts the user to enter a password. If the password is \"password123\", print out \"Access granted\", otherwise print out \"Access denied\"."
   ]
  },
  {
   "cell_type": "code",
   "execution_count": 99,
   "metadata": {},
   "outputs": [
    {
     "name": "stdout",
     "output_type": "stream",
     "text": [
      "Access granted\n"
     ]
    }
   ],
   "source": [
    "password = input(\"Enter the Password \")\n",
    "if (password == \"password123\"):\n",
    "    print(\"Access granted\")\n",
    "else :\n",
    "    print(\"Access denied\")"
   ]
  },
  {
   "cell_type": "markdown",
   "metadata": {},
   "source": [
    "Q27. Write a program that prompts the user to enter a positive integer. Then, use a loop to print out all the odd numbers from 1 to that integer."
   ]
  },
  {
   "cell_type": "code",
   "execution_count": 33,
   "metadata": {},
   "outputs": [
    {
     "name": "stdout",
     "output_type": "stream",
     "text": [
      "1\n",
      "3\n",
      "5\n",
      "7\n",
      "9\n",
      "11\n",
      "13\n",
      "15\n",
      "17\n"
     ]
    }
   ],
   "source": [
    "num = int (input(\"Enter The Positive Number \"))\n",
    "for i in range (0 , num+1):\n",
    "    if(i%2 != 0):\n",
    "        print(i)\n",
    "\n",
    "\n",
    "# Using for loop\n",
    "# prompt user to enter a positive integer\n",
    "num = int(input(\"Enter a positive integer: \"))\n",
    "\n",
    "# print out all the odd numbers from 1 to num\n",
    "for i in range(1, num+1, 2):\n",
    "    print(i)"
   ]
  },
  {
   "cell_type": "markdown",
   "metadata": {},
   "source": [
    "Q28. Write a program that generates a random number between 1 and 100 and then prompts the user to guess the number. If the user's guess is too low, print out \"Too low!\", if the guess is too high, print out \"Too\n",
    "high!\", and if the guess is correct, print out \"You win!\"."
   ]
  },
  {
   "cell_type": "code",
   "execution_count": 37,
   "metadata": {},
   "outputs": [
    {
     "name": "stdout",
     "output_type": "stream",
     "text": [
      "you enter the 100 and the num is 18 TO high\n"
     ]
    }
   ],
   "source": [
    "import random\n",
    "secrat_num = random.randint(1,100)\n",
    "\n",
    "guess = int(input(\"Enter The Number Between 1 to 100\"))\n",
    "\n",
    "if guess < secrat_num :\n",
    "    print(f\"\"\"you enter the {guess} and the num is {secrat_num} its to loww\"\"\")\n",
    "elif(guess == secrat_num):\n",
    "    print(f\"\"\"you enter the {guess} and the num is {secrat_num} You win\"\"\")\n",
    "else :\n",
    "    print(f\"\"\"you enter the {guess} and the num is {secrat_num} TO high\"\"\")\n",
    "\n",
    "\n",
    "\n",
    "import random\n",
    "\n",
    "# generate a random number between 1 and 100\n",
    "secret_number = random.randint(1, 100)\n",
    "\n",
    "# prompt user to guess the number\n",
    "guess = int(input(\"Guess the number between 1 and 100: \"))\n",
    "\n",
    "# check if guess is too low, too high, or correct\n",
    "while guess != secret_number:\n",
    "    if guess < secret_number:\n",
    "        print(\"Too low!\")\n",
    "    else:\n",
    "        print(\"Too high!\")\n",
    "    guess = int(input(\"Guess again: \"))\n",
    "\n",
    "# guess is correct, print \"You win!\"\n",
    "print(\"You win!\")\n"
   ]
  },
  {
   "cell_type": "markdown",
   "metadata": {},
   "source": [
    "Q29. Write a program that generates a random number between 1 and 10 and then prompts the user to guess the number. The user has three attempts to guess the number. If the user guesses correctly within three attempts, print out \"You win!\", otherwise print out \"You lose!\"."
   ]
  },
  {
   "cell_type": "code",
   "execution_count": null,
   "metadata": {},
   "outputs": [],
   "source": [
    "import random\n",
    "\n",
    "# generate a random number between 1 and 10\n",
    "secret_number = random.randint(1, 10)\n",
    "\n",
    "# set number of attempts to 3\n",
    "attempts = 3\n",
    "\n",
    "# prompt user to guess the number\n",
    "while attempts > 0:\n",
    "    guess = int(input(\"Guess the number between 1 and 10: \"))\n",
    "    if guess == secret_number:\n",
    "        print(\"You win!\")\n",
    "        break\n",
    "    elif guess < secret_number:\n",
    "        print(\"Too low!\")\n",
    "    else:\n",
    "        print(\"Too high!\")\n",
    "    attempts -= 1\n",
    "\n",
    "# check if user used up all three attempts and lost\n",
    "if attempts == 0:\n",
    "    print(\"You lose!\")"
   ]
  },
  {
   "cell_type": "code",
   "execution_count": 38,
   "metadata": {},
   "outputs": [
    {
     "name": "stdout",
     "output_type": "stream",
     "text": [
      "you enter the 3 and the num is 1 TO high\n"
     ]
    }
   ],
   "source": [
    "import random\n",
    "secrat_num = random.randint(1,11)\n",
    "for i in range (1,4):\n",
    "    guess = int(input(\"Enter The Number Between 1 to 100\"))\n",
    "\n",
    "if guess < secrat_num :\n",
    "    print(f\"\"\"you enter the {guess} and the num is {secrat_num} its to loww\"\"\")\n",
    "elif(guess == secrat_num):\n",
    "    print(f\"\"\"you enter the {guess} and the num is {secrat_num} You win\"\"\")\n",
    "else :\n",
    "    print(f\"\"\"you enter the {guess} and the num is {secrat_num} TO high\"\"\")\n"
   ]
  },
  {
   "cell_type": "markdown",
   "metadata": {},
   "source": [
    "Q30. Write a program that prompts the user to enter their age and then prints out whether they are a child (age 0-12), a teenager (age 13-19), an adult (age 20-59), or a senior (age 60+) "
   ]
  },
  {
   "cell_type": "code",
   "execution_count": 44,
   "metadata": {},
   "outputs": [
    {
     "name": "stdout",
     "output_type": "stream",
     "text": [
      "You are senior \n"
     ]
    }
   ],
   "source": [
    "age = int (input(\"Enter YOur age \"))\n",
    "\n",
    "if(age >=0 and age <= 12):\n",
    "    print(\"YOu are child \")\n",
    "elif (age <=13 and age <= 19):\n",
    "    print(\"Your are teenager \")\n",
    "elif(age >=20 and age >= 59):\n",
    "    print (\"YOu are adult \")\n",
    "else :\n",
    "    print(\"You are senior \")\n",
    "\n",
    "\n",
    "# prompt user to enter their age\n",
    "age = int(input(\"Enter your age: \"))\n",
    "\n",
    "# check if age falls into child, teenager, adult, or senior category\n",
    "if age <= 12:\n",
    "    print(\"You are a child.\")\n",
    "elif age <= 19:\n",
    "    print(\"You are a teenager.\")\n",
    "elif age <= 59:\n",
    "    print(\"You are an adult.\")\n",
    "else:\n",
    "    print(\"You are a senior.\")"
   ]
  },
  {
   "cell_type": "markdown",
   "metadata": {},
   "source": [
    "Q31. Create a class called \"Person\" with properties for \"name\", \"age\", and \"gender\". Create an object of this class and print out its properties."
   ]
  },
  {
   "cell_type": "code",
   "execution_count": 48,
   "metadata": {},
   "outputs": [
    {
     "name": "stdout",
     "output_type": "stream",
     "text": [
      "om\n"
     ]
    }
   ],
   "source": [
    "class Person :\n",
    "    def __init__ (self, name , age , gender):\n",
    "        self.name = name \n",
    "        self.age = age \n",
    "        self.gender = gender\n",
    "\n",
    "\n",
    "Person1 = Person(\"om\", 22,\"male\")\n",
    "print(Person1.name)\n",
    "\n",
    "\n",
    "\n",
    "# Define the Person class\n",
    "class Person:\n",
    "    # Constructor method to initialize the name, age, and gender properties\n",
    "    def __init__(self, name, age, gender):\n",
    "        self.name = name\n",
    "        self.age = age\n",
    "        self.gender = gender\n",
    "\n",
    "# Create an object of the Person class\n",
    "person1 = Person(\"John Doe\", 30, \"male\")\n",
    "\n",
    "# Print out the properties of the person object\n",
    "print(\"Name:\", person1.name)\n",
    "print(\"Age:\", person1.age)\n",
    "print(\"Gender:\", person1.gender)"
   ]
  },
  {
   "cell_type": "markdown",
   "metadata": {},
   "source": [
    "Q32. Write a Python class called \"Rectangle\" with attributes for \"width\" and \"height\". Implement methods to calculate the area and perimeter of the rectangle. Create an instance of this class and use it to print out the rectangle's area and perimeter."
   ]
  },
  {
   "cell_type": "code",
   "execution_count": 49,
   "metadata": {},
   "outputs": [
    {
     "name": "stdout",
     "output_type": "stream",
     "text": [
      "The are are of the rectange is 200\n"
     ]
    }
   ],
   "source": [
    "class Rectange :\n",
    "    def __init__(self , width ,height):\n",
    "        self.width = width\n",
    "        self.height = height\n",
    "    def area (self):\n",
    "        print(f\"\"\"The are are of the rectange is {self.width * self.height}\"\"\")\n",
    "\n",
    "\n",
    "rec1 = Rectange (10,20)\n",
    "rec1.area()\n",
    "\n",
    "\n",
    "\n",
    "# Define the Rectangle class\n",
    "class Rectangle:\n",
    "    # Constructor method to initialize the width and height properties\n",
    "    def __init__(self, width, height):\n",
    "        self.width = width\n",
    "        self.height = height\n",
    "\n",
    "    # Method to calculate the area of the rectangle\n",
    "    def area(self):\n",
    "        return self.width * self.height\n",
    "\n",
    "    # Method to calculate the perimeter of the rectangle\n",
    "    def perimeter(self):\n",
    "        return 2 * (self.width + self.height)\n",
    "\n",
    "# Create an object of the Rectangle class\n",
    "rect1 = Rectangle(5, 10)\n",
    "\n",
    "# Print out the area and perimeter of the rectangle object\n",
    "print(\"Area:\", rect1.area())\n",
    "print(\"Perimeter:\", rect1.perimeter())"
   ]
  },
  {
   "cell_type": "markdown",
   "metadata": {},
   "source": [
    "Q33. Write a Python class called \"BankAccount\" with attributes for \"balance\" and \"interest_rate\". Implement methods to deposit and withdraw money from the account, as well as to calculate the interest earned on the balance based on the interest rate. Create an instance of this class and use it to test out the implemented methods for deposit, withdrawal, and interest calculation."
   ]
  },
  {
   "cell_type": "code",
   "execution_count": 1,
   "metadata": {},
   "outputs": [
    {
     "name": "stdout",
     "output_type": "stream",
     "text": [
      "1010\n",
      "Balance: 1300\n",
      "Interest earned: 19.5\n"
     ]
    }
   ],
   "source": [
    "class BankAccount:\n",
    "    def __init__(self,balance,interest_rate ):\n",
    "        self.balance = balance\n",
    "        self.interest_rate =interest_rate\n",
    "\n",
    "    def deposit(self ,anoumt):\n",
    "        self.balance = self.balance + anoumt\n",
    "        return self.balance\n",
    "    def withdraw(self,amount):\n",
    "        self.balance = self.balance + anoumt\n",
    "        return self.balance\n",
    "    \n",
    "    def insterest_earn (self):\n",
    "         return self.balance * self.interest_rate / 100\n",
    "    \n",
    "\n",
    "p1 = BankAccount(1000,1.1)\n",
    "print(p1.deposit(10))\n",
    "\n",
    "\n",
    "\n",
    "\n",
    "\n",
    "\n",
    "\n",
    "# Define the BankAccount class\n",
    "class BankAccount:\n",
    "    # Constructor method to initialize the balance and interest_rate properties\n",
    "    def __init__(self, balance, interest_rate):\n",
    "        self.balance = balance\n",
    "        self.interest_rate = interest_rate\n",
    "\n",
    "    # Method to deposit money into the account\n",
    "    def deposit(self, amount):\n",
    "        self.balance += amount\n",
    "\n",
    "    # Method to withdraw money from the account\n",
    "    def withdraw(self, amount):\n",
    "        self.balance -= amount\n",
    "\n",
    "    # Method to calculate the interest earned on the balance\n",
    "    def calculate_interest(self):\n",
    "        return self.balance * self.interest_rate / 100\n",
    "\n",
    "# Create an object of the BankAccount class\n",
    "account1 = BankAccount(1000, 1.5)\n",
    "\n",
    "# Test out the deposit and withdraw methods\n",
    "account1.deposit(500)\n",
    "account1.withdraw(200)\n",
    "\n",
    "# Test out the calculate_interest method\n",
    "interest_earned = account1.calculate_interest()\n",
    "\n",
    "# Print out the balance and interest earned on the account\n",
    "print(\"Balance:\", account1.balance)\n",
    "print(\"Interest earned:\", interest_earned)"
   ]
  },
  {
   "cell_type": "markdown",
   "metadata": {},
   "source": [
    "34. Write a Python class called \"Animal\" with attributes for \"name\" and \"species\". Create a subclass of \"Animal\" called \"Dog\" with additional attributes for \"breed\" and \"owner\". Implement both classes with appropriate methods and constructors to initialise their properties. Create instances of both classes and use them to print out the various properties of the animals and dogs, such as their names, species, breeds, and owners."
   ]
  },
  {
   "cell_type": "code",
   "execution_count": null,
   "metadata": {},
   "outputs": [],
   "source": [
    "class Animals :\n",
    "    def __init__(self,\"name\",\"species\"):\n",
    "        self.name = name\n",
    "        self.species = species\n",
    "\n",
    "\n",
    "class Dog (Animals):\n",
    "    se"
   ]
  },
  {
   "cell_type": "markdown",
   "metadata": {},
   "source": [
    "35.Create a class called \"Car\" with properties for \"make\", \"model\", and \"year\". Create a subclass of \"Car\" called \"ElectricCar\" with additional properties for \"battery_size\" and \"range\". Create objects of both classes and print out their properties."
   ]
  },
  {
   "cell_type": "code",
   "execution_count": 16,
   "metadata": {},
   "outputs": [
    {
     "name": "stdout",
     "output_type": "stream",
     "text": [
      "Car make: Toyota\n",
      "Car model: Camry\n",
      "Car year: 2019\n",
      "Electric car make: Tesla\n",
      "Electric car model: Model 3\n",
      "Electric car year: 2021\n",
      "Electric car battery size: 75\n",
      "Electric car range: 263\n",
      "Car make: Toyota\n",
      "Car model: Camry\n",
      "Car year: 2019\n",
      "Electric car make: Tesla\n",
      "Electric car model: Model 3\n",
      "Electric car year: 2021\n",
      "Electric car battery size: 75\n",
      "Electric car range: 263\n"
     ]
    }
   ],
   "source": [
    "class car:\n",
    "    def __init__(self,  make, model,  year ):\n",
    "        self.make=make\n",
    "        self.model=model\n",
    "        self.year=year\n",
    "class ElectricCar(car) :\n",
    "    def __init__(self,make, model,  year ,battery_size,range):\n",
    "        super().__init__(make ,model ,year)\n",
    "        # super().__init__(make, model, year)  # Corrected the super() call\n",
    "        self.battery_size=battery_size\n",
    "        self.range=range\n",
    "\n",
    "\n",
    "\n",
    "# Create an object of the Car class\n",
    "car1 = car(\"Toyota\", \"Camry\", 2019)\n",
    "\n",
    "# Create an object of the ElectricCar class\n",
    "electric_car1 = ElectricCar(\"Tesla\", \"Model 3\", 2021, 75, 263)\n",
    "\n",
    "# Print out the properties of the car1 object\n",
    "print(\"Car make:\", car1.make)\n",
    "print(\"Car model:\", car1.model)\n",
    "print(\"Car year:\", car1.year)\n",
    "\n",
    "# Print out the properties of the electric_car1 object\n",
    "print(\"Electric car make:\", electric_car1.make)\n",
    "print(\"Electric car model:\", electric_car1.model)\n",
    "print(\"Electric car year:\", electric_car1.year)\n",
    "print(\"Electric car battery size:\", electric_car1.battery_size)\n",
    "print(\"Electric car range:\", electric_car1.range)\n",
    "\n",
    "\n",
    "\n",
    "\n",
    "\n",
    "\n",
    "\n",
    "\n",
    "\n",
    "\n",
    "\n",
    "\n",
    "\n",
    "\n",
    "\n",
    "\n",
    "\n",
    "\n",
    "\n",
    "\n",
    "# Define the Car class\n",
    "class Car:\n",
    "    # Constructor method to initialize the make, model, and year properties\n",
    "    def __init__(self, make, model, year):\n",
    "        self.make = make\n",
    "        self.model = model\n",
    "        self.year = year\n",
    "\n",
    "# Define the ElectricCar subclass, which inherits from Car\n",
    "class ElectricCar(Car):\n",
    "    # Constructor method to initialize the battery_size and range properties\n",
    "    def __init__(self, make, model, year, battery_size, range):\n",
    "        # Call the parent class's constructor to initialize the make, model, and year properties\n",
    "        # super().__init__(make, model, year)\n",
    "        super().__init__(make, model, year)  # Corrected the super() call\n",
    "        self.battery_size = battery_size\n",
    "        self.range = range\n",
    "\n",
    "# Create an object of the Car class\n",
    "car1 = Car(\"Toyota\", \"Camry\", 2019)\n",
    "\n",
    "# Create an object of the ElectricCar class\n",
    "electric_car1 = ElectricCar(\"Tesla\", \"Model 3\", 2021, 75, 263)\n",
    "\n",
    "# Print out the properties of the car1 object\n",
    "print(\"Car make:\", car1.make)\n",
    "print(\"Car model:\", car1.model)\n",
    "print(\"Car year:\", car1.year)\n",
    "\n",
    "# Print out the properties of the electric_car1 object\n",
    "print(\"Electric car make:\", electric_car1.make)\n",
    "print(\"Electric car model:\", electric_car1.model)\n",
    "print(\"Electric car year:\", electric_car1.year)\n",
    "print(\"Electric car battery size:\", electric_car1.battery_size)\n",
    "print(\"Electric car range:\", electric_car1.range)"
   ]
  },
  {
   "cell_type": "markdown",
   "metadata": {},
   "source": [
    "36.Create a class called \"Student\" with properties for \"name\" and \"id\". Create a subclass of \"Student\" called \"GraduateStudent\" with additional properties for \"advisor\" and \"research_area\". Create objects of both classes and print out their properties.\n"
   ]
  },
  {
   "cell_type": "code",
   "execution_count": 22,
   "metadata": {},
   "outputs": [
    {
     "name": "stdout",
     "output_type": "stream",
     "text": [
      "sham 145 cs\n",
      "om\n"
     ]
    }
   ],
   "source": [
    "class Student :\n",
    "    def __init__(self, name , id):\n",
    "        self.name = name\n",
    "        self.id= id\n",
    "\n",
    "class GraduateStudent (Student):\n",
    "    def __init__(self, name , id,advisor,research_area):\n",
    "        super().__init__(name , id)\n",
    "        self.advisor = advisor\n",
    "        self.research_area = research_area\n",
    "\n",
    "\n",
    "s1 = Student(\"om\" , \"123\")\n",
    "g1 = GraduateStudent(\"sham\",\"145\",\"cs\", \"data Science\")\n",
    "print (g1.name, g1.id,g1.advisor)\n",
    "print(s1.name)\n"
   ]
  },
  {
   "cell_type": "markdown",
   "metadata": {},
   "source": [
    "37. Create a class called \"Shape\" with methods to calculate the area and perimeter of the shape. Create subclasses of \"Shape\" for \"Rectangle\", \"Circle\", and \"Triangle\" with their own methods for calculating area and perimeter. Create objects of each class and print out their area and perimeter.\n"
   ]
  },
  {
   "cell_type": "code",
   "execution_count": null,
   "metadata": {},
   "outputs": [],
   "source": [
    "import math\n",
    "\n",
    "# Define the Shape class\n",
    "class Shape:\n",
    "    def calculate_area(self):\n",
    "        pass\n",
    "\n",
    "    def calculate_perimeter(self):\n",
    "        pass\n",
    "\n",
    "# Define the Rectangle class, which inherits from Shape\n",
    "class Rectangle(Shape):\n",
    "    def __init__(self, width, height):\n",
    "        self.width = width\n",
    "        self.height = height\n",
    "\n",
    "    def calculate_area(self):\n",
    "        return self.width * self.height\n",
    "\n",
    "    def calculate_perimeter(self):\n",
    "        return 2 * (self.width + self.height)\n",
    "\n",
    "# Define the Circle class, which inherits from Shape\n",
    "class Circle(Shape):\n",
    "    def __init__(self, radius):\n",
    "        self.radius = radius\n",
    "\n",
    "    def calculate_area(self):\n",
    "        return math.pi * self.radius ** 2\n",
    "\n",
    "    def calculate_perimeter(self):\n",
    "        return 2 * math.pi * self.radius\n",
    "\n",
    "# Define the Triangle class, which inherits from Shape\n",
    "class Triangle(Shape):\n",
    "    def __init__(self, a, b, c):\n",
    "        self.a = a\n",
    "        self.b = b\n",
    "        self.c = c\n",
    "\n",
    "    def calculate_area(self):\n",
    "        s = (self.a + self.b + self.c) / 2\n",
    "        return math.sqrt(s * (s - self.a) * (s - self.b) * (s - self.c))\n",
    "\n",
    "    def calculate_perimeter(self):\n",
    "        return self.a + self.b + self.c\n",
    "\n",
    "# Create objects of each class and print out their area and perimeter\n",
    "rectangle = Rectangle(5, 3)\n",
    "print(\"Rectangle area:\", rectangle.calculate_area())\n",
    "print(\"Rectangle perimeter:\", rectangle.calculate_perimeter())\n",
    "\n",
    "circle = Circle(4)\n",
    "print(\"Circle area:\", circle.calculate_area())\n",
    "print(\"Circle perimeter:\", circle.calculate_perimeter())\n",
    "\n",
    "triangle = Triangle(3, 4, 5)\n",
    "print(\"Triangle area:\", triangle.calculate_area())\n",
    "print(\"Triangle perimeter:\", triangle.calculate_perimeter())"
   ]
  },
  {
   "cell_type": "markdown",
   "metadata": {},
   "source": [
    "38.Create a class called \"Employee\" with properties for \"name\", \"id\", and \"salary\". Add methods to give the employee a raise and to calculate their annual salary. Create objects of this class and test out the methods.\n"
   ]
  },
  {
   "cell_type": "code",
   "execution_count": null,
   "metadata": {},
   "outputs": [],
   "source": [
    "class Employee:\n",
    "    def __init__(self, name, id, salary):\n",
    "        self.name = name\n",
    "        self.id = id\n",
    "        self.salary = salary\n",
    "\n",
    "    def give_raise(self, amount):\n",
    "        self.salary += amount\n",
    "\n",
    "    def annual_salary(self):\n",
    "        return self.salary * 12\n",
    "\n",
    "# create an employee object\n",
    "employee1 = Employee(\"John Doe\", 12345, 50000)\n",
    "\n",
    "# print out the initial salary\n",
    "print(\"Initial salary:\", employee1.salary)\n",
    "\n",
    "# give the employee a raise of $1000\n",
    "employee1.give_raise(1000)\n",
    "\n",
    "# print out the new salary\n",
    "print(\"New salary:\", employee1.salary)\n",
    "\n",
    "# print out the annual salary\n",
    "print(\"Annual salary:\", employee1.annual_salary())"
   ]
  },
  {
   "cell_type": "markdown",
   "metadata": {},
   "source": [
    "39.Create a class called \"Book\" with properties for \"title\", \"author\", and \"publisher\". Create a subclass of \"Book\" called \"Ebook\" with additional properties for \"file_format\" and \"file_size\". Create objects of both classes and print out their properties."
   ]
  },
  {
   "cell_type": "code",
   "execution_count": null,
   "metadata": {},
   "outputs": [],
   "source": [
    "class Book:\n",
    "    def __init__(self, title, author, publisher):\n",
    "        self.title = title\n",
    "        self.author = author\n",
    "        self.publisher = publisher\n",
    "\n",
    "class Ebook(Book):\n",
    "    def __init__(self, title, author, publisher, file_format, file_size):\n",
    "        super().__init__(title, author, publisher)\n",
    "        self.file_format = file_format\n",
    "        self.file_size = file_size\n",
    "\n",
    "# Create an object of the Book class\n",
    "book1 = Book(\"To Kill a Mockingbird\", \"Harper Lee\", \"J. B. Lippincott & Co.\")\n",
    "\n",
    "# Create an object of the Ebook class\n",
    "ebook1 = Ebook(\"The Hunger Games\", \"Suzanne Collins\", \"Scholastic Corporation\", \"PDF\", \"2.5 MB\")\n",
    "\n",
    "# Print out the properties of book1\n",
    "print(\"Book title:\", book1.title)\n",
    "print(\"Book author:\", book1.author)\n",
    "print(\"Book publisher:\", book1.publisher)\n",
    "\n",
    "# Print out the properties of ebook1\n",
    "print(\"Ebook title:\", ebook1.title)\n",
    "print(\"Ebook author:\", ebook1.author)\n",
    "print(\"Ebook publisher:\", ebook1.publisher)\n",
    "print(\"Ebook file format:\", ebook1.file_format)\n",
    "print(\"Ebook file size:\", ebook1.file_size)"
   ]
  },
  {
   "cell_type": "markdown",
   "metadata": {},
   "source": [
    "40.Create a class called \"Bank\" with properties for \"name\" and \"accounts\". Add methods to create new accounts, deposit and withdraw money from accounts, and to calculate the total balance of all accounts. Create an object of this class and test out the methods."
   ]
  },
  {
   "cell_type": "code",
   "execution_count": 23,
   "metadata": {},
   "outputs": [
    {
     "name": "stdout",
     "output_type": "stream",
     "text": [
      "Account 1001 created successfully.\n",
      "Account 1002 created successfully.\n",
      "Deposited 200 to account 1001.\n",
      "Deposited 300 to account 1002.\n",
      "Withdrew 100 from account 1001.\n",
      "Withdrew 400 from account 1002.\n",
      "Total balance in the bank: 1500\n"
     ]
    }
   ],
   "source": [
    "class Bank:\n",
    "    def __init__(self, name):\n",
    "        self.name = name\n",
    "        self.accounts = {}\n",
    "\n",
    "    def create_account(self, account_number, initial_balance=0):\n",
    "        if account_number in self.accounts:\n",
    "            print(\"Account already exists.\")\n",
    "        else:\n",
    "            self.accounts[account_number] = initial_balance\n",
    "            print(f\"Account {account_number} created successfully.\")\n",
    "\n",
    "    def deposit(self, account_number, amount):\n",
    "        if account_number in self.accounts:\n",
    "            self.accounts[account_number] += amount\n",
    "            print(f\"Deposited {amount} to account {account_number}.\")\n",
    "        else:\n",
    "            print(\"Account not found.\")\n",
    "\n",
    "    def withdraw(self, account_number, amount):\n",
    "        if account_number in self.accounts:\n",
    "            if self.accounts[account_number] >= amount:\n",
    "                self.accounts[account_number] -= amount\n",
    "                print(f\"Withdrew {amount} from account {account_number}.\")\n",
    "            else:\n",
    "                print(\"Insufficient balance.\")\n",
    "        else:\n",
    "            print(\"Account not found.\")\n",
    "\n",
    "    def total_balance(self):\n",
    "        total = sum(self.accounts.values())\n",
    "        return total\n",
    "\n",
    "\n",
    "# Test the Bank class\n",
    "bank = Bank(\"MyBank\")\n",
    "\n",
    "# Create new accounts\n",
    "bank.create_account(\"1001\", 500)\n",
    "bank.create_account(\"1002\", 1000)\n",
    "\n",
    "# Deposit money\n",
    "bank.deposit(\"1001\", 200)\n",
    "bank.deposit(\"1002\", 300)\n",
    "\n",
    "# Withdraw money\n",
    "bank.withdraw(\"1001\", 100)\n",
    "bank.withdraw(\"1002\", 400)\n",
    "\n",
    "# Calculate total balance\n",
    "total_balance = bank.total_balance()\n",
    "print(f\"Total balance in the bank: {total_balance}\")\n"
   ]
  },
  {
   "cell_type": "markdown",
   "metadata": {},
   "source": [
    "41.Can you create a Python program that reads a text file and counts the number of words contained within it? The program should be designed to read the file and break it down into individual words, using spaces, punctuation marks, and other delimiters to separate the words. It should then count the number of words found in the file and display this count as output. The program should be flexible enough to work with different text files and should be able to handle a variety of formatting and punctuation styles."
   ]
  },
  {
   "cell_type": "code",
   "execution_count": 26,
   "metadata": {},
   "outputs": [
    {
     "name": "stdout",
     "output_type": "stream",
     "text": [
      "9\n"
     ]
    }
   ],
   "source": [
    "with open(\"filename.txt\" , 'r') as file :\n",
    "    words = file.read().split()\n",
    "\n",
    "print(len(words))"
   ]
  },
  {
   "cell_type": "markdown",
   "metadata": {},
   "source": [
    "42. Could you help me create a Python program that can find and display the longest word in a text file? The program should be able to read any text file and separate its contents into individual words, taking into account various delimiters like spaces, punctuation marks, and other characters. Then, it should compare the length of each word and determine which one is the longest, and finally, print that word as output. The program should be versatile enough to work with various text files and be able to handle different formatting styles and punctuation.\n"
   ]
  },
  {
   "cell_type": "code",
   "execution_count": 28,
   "metadata": {},
   "outputs": [
    {
     "name": "stdout",
     "output_type": "stream",
     "text": [
      "datatatatatatat\n"
     ]
    }
   ],
   "source": [
    "with open (\"filename.txt\", 'r') as file :\n",
    "    words = file.read().split()\n",
    "    max_world = max (words , key = len)\n",
    "    print(max_world)"
   ]
  },
  {
   "cell_type": "markdown",
   "metadata": {},
   "source": [
    "43.Write a Python program to read a text file and print out the most frequent word(s) in the file.\n"
   ]
  },
  {
   "cell_type": "code",
   "execution_count": null,
   "metadata": {},
   "outputs": [],
   "source": [
    "with open (\"filename.txt\", 'r') as file :\n",
    "    worlds = file.read().split()\n",
    "\n",
    "\n",
    "\n",
    "from collections import Counter\n",
    "\n",
    "# Open the file and read its contents\n",
    "with open('filename.txt', 'r') as file:\n",
    "    text = file.read()\n",
    "\n",
    "# Remove special characters and split the text into words\n",
    "words = text.lower().replace('\\n', ' ').split()\n",
    "\n",
    "# Count the frequency of each word using Counter from collections module\n",
    "word_count = Counter(words)\n",
    "\n",
    "# Find the most frequent word(s)\n",
    "most_common = word_count.most_common()\n",
    "\n",
    "# Get the count of the most frequent word(s)\n",
    "max_count = most_common[0][1]\n",
    "\n",
    "# Print out all the words that have the same maximum frequency\n",
    "print(\"Most frequent word(s):\")\n",
    "for word, count in most_common:\n",
    "    if count == max_count:\n",
    "        print(f\"{word}: {count} times\")\n",
    "    else:\n",
    "        break"
   ]
  },
  {
   "cell_type": "markdown",
   "metadata": {},
   "source": [
    "44. How can you use Python to count the number of rows in a CSV file?\n"
   ]
  },
  {
   "cell_type": "code",
   "execution_count": 31,
   "metadata": {},
   "outputs": [
    {
     "name": "stdout",
     "output_type": "stream",
     "text": [
      "The number of rows in example.csv is 1\n"
     ]
    }
   ],
   "source": [
    "import csv\n",
    "\n",
    "filename = \"example.csv\"  # replace with the name of your CSV file\n",
    "\n",
    "with open(filename, 'r') as csvfile:\n",
    "    reader = csv.reader(csvfile)\n",
    "    num_rows = sum(1 for row in reader)\n",
    "\n",
    "print(f\"The number of rows in {filename} is {num_rows}\")"
   ]
  },
  {
   "cell_type": "markdown",
   "metadata": {},
   "source": [
    "45. How can you use Python to calculate the average of a specific column in a CSV file?\n"
   ]
  },
  {
   "cell_type": "code",
   "execution_count": null,
   "metadata": {},
   "outputs": [],
   "source": [
    "import csv\n",
    "\n",
    "filename = \"example.csv\"  # replace with the name of your CSV file\n",
    "column_index = 2  # replace with the index of the column you want to calculate the average of\n",
    "\n",
    "with open(filename, 'r') as csvfile:\n",
    "    reader = csv.reader(csvfile)\n",
    "    next(reader)  # skip header row\n",
    "    values = [float(row[column_index]) for row in reader]\n",
    "\n",
    "average = sum(values) / len(values)\n",
    "print(f\"The average of column {column_index} in {filename} is {average}\")"
   ]
  },
  {
   "cell_type": "markdown",
   "metadata": {},
   "source": [
    "46.Write a Python program to read a JSON file and print out the value of a specified key.\n"
   ]
  },
  {
   "cell_type": "markdown",
   "metadata": {},
   "source": [
    "47. Can you provide a Python code snippet to write a list of strings into a text file where each string is written on a new line?\n"
   ]
  },
  {
   "cell_type": "markdown",
   "metadata": {},
   "source": []
  },
  {
   "cell_type": "markdown",
   "metadata": {},
   "source": []
  }
 ],
 "metadata": {
  "kernelspec": {
   "display_name": "Python 3",
   "language": "python",
   "name": "python3"
  },
  "language_info": {
   "codemirror_mode": {
    "name": "ipython",
    "version": 3
   },
   "file_extension": ".py",
   "mimetype": "text/x-python",
   "name": "python",
   "nbconvert_exporter": "python",
   "pygments_lexer": "ipython3",
   "version": "3.10.2"
  },
  "orig_nbformat": 4
 },
 "nbformat": 4,
 "nbformat_minor": 2
}
